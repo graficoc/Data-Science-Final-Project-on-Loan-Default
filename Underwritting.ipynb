{
 "cells": [
  {
   "cell_type": "markdown",
   "metadata": {},
   "source": [
    "<h2>Underwitting</h2>\n",
    "<h3>Loan data for all loans issued by XYZ Corp. through 2007-2015.</h3>\n",
    "<h3>Objective :-</h3>\n",
    "<h4>You have to build a data model to predict the probability of default, and choose a cut-off based on what you feel is suitable. Alternatively you can also use a modelling technique which gives binary output.</h4>"
   ]
  },
  {
   "cell_type": "code",
   "execution_count": 1,
   "metadata": {
    "collapsed": true
   },
   "outputs": [],
   "source": [
    "import pandas as pd\n",
    "import math\n",
    "import numpy as np \n",
    "from scipy import stats \n",
    "import matplotlib.pyplot as plt\n",
    "import seaborn as sns \n",
    "import datetime\n",
    "from  collections import Counter \n",
    "from sklearn.metrics import confusion_matrix , classification_report , accuracy_score\n",
    "from sklearn.linear_model import LogisticRegression \n",
    "#from sklearn.cross_validation import KFold\n",
    "#from sklearn.grid_search import GridSearchCV\n",
    "from xgboost import XGBClassifier\n",
    "from sklearn.svm import SVC\n",
    "from sklearn.tree import DecisionTreeClassifier\n",
    "from sklearn.ensemble import RandomForestClassifier\n",
    "import warnings\n",
    "warnings.filterwarnings(\"ignore\")"
   ]
  },
  {
   "cell_type": "code",
   "execution_count": 2,
   "metadata": {
    "collapsed": true
   },
   "outputs": [],
   "source": [
    "df = pd.read_table(r\"C:\\Users\\kusha\\Desktop\\data sci\\python\\pythonProject\\XYZCorp_LendingData.text\" , index_col = None)"
   ]
  },
  {
   "cell_type": "code",
   "execution_count": 3,
   "metadata": {},
   "outputs": [
    {
     "data": {
      "text/plain": [
       "(855969, 73)"
      ]
     },
     "execution_count": 3,
     "metadata": {},
     "output_type": "execute_result"
    }
   ],
   "source": [
    "df.shape"
   ]
  },
  {
   "cell_type": "code",
   "execution_count": 4,
   "metadata": {},
   "outputs": [
    {
     "data": {
      "text/html": [
       "<div>\n",
       "<style>\n",
       "    .dataframe thead tr:only-child th {\n",
       "        text-align: right;\n",
       "    }\n",
       "\n",
       "    .dataframe thead th {\n",
       "        text-align: left;\n",
       "    }\n",
       "\n",
       "    .dataframe tbody tr th {\n",
       "        vertical-align: top;\n",
       "    }\n",
       "</style>\n",
       "<table border=\"1\" class=\"dataframe\">\n",
       "  <thead>\n",
       "    <tr style=\"text-align: right;\">\n",
       "      <th></th>\n",
       "      <th>id</th>\n",
       "      <th>member_id</th>\n",
       "      <th>loan_amnt</th>\n",
       "      <th>funded_amnt</th>\n",
       "      <th>funded_amnt_inv</th>\n",
       "      <th>term</th>\n",
       "      <th>int_rate</th>\n",
       "      <th>installment</th>\n",
       "      <th>grade</th>\n",
       "      <th>sub_grade</th>\n",
       "      <th>...</th>\n",
       "      <th>il_util</th>\n",
       "      <th>open_rv_12m</th>\n",
       "      <th>open_rv_24m</th>\n",
       "      <th>max_bal_bc</th>\n",
       "      <th>all_util</th>\n",
       "      <th>total_rev_hi_lim</th>\n",
       "      <th>inq_fi</th>\n",
       "      <th>total_cu_tl</th>\n",
       "      <th>inq_last_12m</th>\n",
       "      <th>default_ind</th>\n",
       "    </tr>\n",
       "  </thead>\n",
       "  <tbody>\n",
       "    <tr>\n",
       "      <th>0</th>\n",
       "      <td>1077501</td>\n",
       "      <td>1296599</td>\n",
       "      <td>5000.0</td>\n",
       "      <td>5000.0</td>\n",
       "      <td>4975.0</td>\n",
       "      <td>36 months</td>\n",
       "      <td>10.65</td>\n",
       "      <td>162.87</td>\n",
       "      <td>B</td>\n",
       "      <td>B2</td>\n",
       "      <td>...</td>\n",
       "      <td>NaN</td>\n",
       "      <td>NaN</td>\n",
       "      <td>NaN</td>\n",
       "      <td>NaN</td>\n",
       "      <td>NaN</td>\n",
       "      <td>NaN</td>\n",
       "      <td>NaN</td>\n",
       "      <td>NaN</td>\n",
       "      <td>NaN</td>\n",
       "      <td>0</td>\n",
       "    </tr>\n",
       "    <tr>\n",
       "      <th>1</th>\n",
       "      <td>1077430</td>\n",
       "      <td>1314167</td>\n",
       "      <td>2500.0</td>\n",
       "      <td>2500.0</td>\n",
       "      <td>2500.0</td>\n",
       "      <td>60 months</td>\n",
       "      <td>15.27</td>\n",
       "      <td>59.83</td>\n",
       "      <td>C</td>\n",
       "      <td>C4</td>\n",
       "      <td>...</td>\n",
       "      <td>NaN</td>\n",
       "      <td>NaN</td>\n",
       "      <td>NaN</td>\n",
       "      <td>NaN</td>\n",
       "      <td>NaN</td>\n",
       "      <td>NaN</td>\n",
       "      <td>NaN</td>\n",
       "      <td>NaN</td>\n",
       "      <td>NaN</td>\n",
       "      <td>1</td>\n",
       "    </tr>\n",
       "    <tr>\n",
       "      <th>2</th>\n",
       "      <td>1077175</td>\n",
       "      <td>1313524</td>\n",
       "      <td>2400.0</td>\n",
       "      <td>2400.0</td>\n",
       "      <td>2400.0</td>\n",
       "      <td>36 months</td>\n",
       "      <td>15.96</td>\n",
       "      <td>84.33</td>\n",
       "      <td>C</td>\n",
       "      <td>C5</td>\n",
       "      <td>...</td>\n",
       "      <td>NaN</td>\n",
       "      <td>NaN</td>\n",
       "      <td>NaN</td>\n",
       "      <td>NaN</td>\n",
       "      <td>NaN</td>\n",
       "      <td>NaN</td>\n",
       "      <td>NaN</td>\n",
       "      <td>NaN</td>\n",
       "      <td>NaN</td>\n",
       "      <td>0</td>\n",
       "    </tr>\n",
       "    <tr>\n",
       "      <th>3</th>\n",
       "      <td>1076863</td>\n",
       "      <td>1277178</td>\n",
       "      <td>10000.0</td>\n",
       "      <td>10000.0</td>\n",
       "      <td>10000.0</td>\n",
       "      <td>36 months</td>\n",
       "      <td>13.49</td>\n",
       "      <td>339.31</td>\n",
       "      <td>C</td>\n",
       "      <td>C1</td>\n",
       "      <td>...</td>\n",
       "      <td>NaN</td>\n",
       "      <td>NaN</td>\n",
       "      <td>NaN</td>\n",
       "      <td>NaN</td>\n",
       "      <td>NaN</td>\n",
       "      <td>NaN</td>\n",
       "      <td>NaN</td>\n",
       "      <td>NaN</td>\n",
       "      <td>NaN</td>\n",
       "      <td>0</td>\n",
       "    </tr>\n",
       "    <tr>\n",
       "      <th>4</th>\n",
       "      <td>1075358</td>\n",
       "      <td>1311748</td>\n",
       "      <td>3000.0</td>\n",
       "      <td>3000.0</td>\n",
       "      <td>3000.0</td>\n",
       "      <td>60 months</td>\n",
       "      <td>12.69</td>\n",
       "      <td>67.79</td>\n",
       "      <td>B</td>\n",
       "      <td>B5</td>\n",
       "      <td>...</td>\n",
       "      <td>NaN</td>\n",
       "      <td>NaN</td>\n",
       "      <td>NaN</td>\n",
       "      <td>NaN</td>\n",
       "      <td>NaN</td>\n",
       "      <td>NaN</td>\n",
       "      <td>NaN</td>\n",
       "      <td>NaN</td>\n",
       "      <td>NaN</td>\n",
       "      <td>0</td>\n",
       "    </tr>\n",
       "  </tbody>\n",
       "</table>\n",
       "<p>5 rows × 73 columns</p>\n",
       "</div>"
      ],
      "text/plain": [
       "        id  member_id  loan_amnt  funded_amnt  funded_amnt_inv        term  \\\n",
       "0  1077501    1296599     5000.0       5000.0           4975.0   36 months   \n",
       "1  1077430    1314167     2500.0       2500.0           2500.0   60 months   \n",
       "2  1077175    1313524     2400.0       2400.0           2400.0   36 months   \n",
       "3  1076863    1277178    10000.0      10000.0          10000.0   36 months   \n",
       "4  1075358    1311748     3000.0       3000.0           3000.0   60 months   \n",
       "\n",
       "   int_rate  installment grade sub_grade     ...     il_util open_rv_12m  \\\n",
       "0     10.65       162.87     B        B2     ...         NaN         NaN   \n",
       "1     15.27        59.83     C        C4     ...         NaN         NaN   \n",
       "2     15.96        84.33     C        C5     ...         NaN         NaN   \n",
       "3     13.49       339.31     C        C1     ...         NaN         NaN   \n",
       "4     12.69        67.79     B        B5     ...         NaN         NaN   \n",
       "\n",
       "  open_rv_24m  max_bal_bc all_util total_rev_hi_lim inq_fi total_cu_tl  \\\n",
       "0         NaN         NaN      NaN              NaN    NaN         NaN   \n",
       "1         NaN         NaN      NaN              NaN    NaN         NaN   \n",
       "2         NaN         NaN      NaN              NaN    NaN         NaN   \n",
       "3         NaN         NaN      NaN              NaN    NaN         NaN   \n",
       "4         NaN         NaN      NaN              NaN    NaN         NaN   \n",
       "\n",
       "  inq_last_12m default_ind  \n",
       "0          NaN           0  \n",
       "1          NaN           1  \n",
       "2          NaN           0  \n",
       "3          NaN           0  \n",
       "4          NaN           0  \n",
       "\n",
       "[5 rows x 73 columns]"
      ]
     },
     "execution_count": 4,
     "metadata": {},
     "output_type": "execute_result"
    }
   ],
   "source": [
    "df.head()"
   ]
  },
  {
   "cell_type": "markdown",
   "metadata": {},
   "source": [
    "<b>Creating Copy of dataframe.</b>"
   ]
  },
  {
   "cell_type": "code",
   "execution_count": 5,
   "metadata": {
    "scrolled": true
   },
   "outputs": [
    {
     "data": {
      "text/html": [
       "<div>\n",
       "<style>\n",
       "    .dataframe thead tr:only-child th {\n",
       "        text-align: right;\n",
       "    }\n",
       "\n",
       "    .dataframe thead th {\n",
       "        text-align: left;\n",
       "    }\n",
       "\n",
       "    .dataframe tbody tr th {\n",
       "        vertical-align: top;\n",
       "    }\n",
       "</style>\n",
       "<table border=\"1\" class=\"dataframe\">\n",
       "  <thead>\n",
       "    <tr style=\"text-align: right;\">\n",
       "      <th></th>\n",
       "      <th>id</th>\n",
       "      <th>member_id</th>\n",
       "      <th>loan_amnt</th>\n",
       "      <th>funded_amnt</th>\n",
       "      <th>funded_amnt_inv</th>\n",
       "      <th>term</th>\n",
       "      <th>int_rate</th>\n",
       "      <th>installment</th>\n",
       "      <th>grade</th>\n",
       "      <th>sub_grade</th>\n",
       "      <th>emp_title</th>\n",
       "      <th>emp_length</th>\n",
       "      <th>home_ownership</th>\n",
       "      <th>annual_inc</th>\n",
       "      <th>verification_status</th>\n",
       "      <th>issue_d</th>\n",
       "      <th>pymnt_plan</th>\n",
       "      <th>desc</th>\n",
       "      <th>purpose</th>\n",
       "      <th>title</th>\n",
       "      <th>zip_code</th>\n",
       "      <th>addr_state</th>\n",
       "      <th>dti</th>\n",
       "      <th>delinq_2yrs</th>\n",
       "      <th>earliest_cr_line</th>\n",
       "      <th>inq_last_6mths</th>\n",
       "      <th>mths_since_last_delinq</th>\n",
       "      <th>mths_since_last_record</th>\n",
       "      <th>open_acc</th>\n",
       "      <th>pub_rec</th>\n",
       "      <th>revol_bal</th>\n",
       "      <th>revol_util</th>\n",
       "      <th>total_acc</th>\n",
       "      <th>initial_list_status</th>\n",
       "      <th>out_prncp</th>\n",
       "      <th>out_prncp_inv</th>\n",
       "      <th>total_pymnt</th>\n",
       "      <th>total_pymnt_inv</th>\n",
       "      <th>total_rec_prncp</th>\n",
       "      <th>total_rec_int</th>\n",
       "      <th>total_rec_late_fee</th>\n",
       "      <th>recoveries</th>\n",
       "      <th>collection_recovery_fee</th>\n",
       "      <th>last_pymnt_d</th>\n",
       "      <th>last_pymnt_amnt</th>\n",
       "      <th>next_pymnt_d</th>\n",
       "      <th>last_credit_pull_d</th>\n",
       "      <th>collections_12_mths_ex_med</th>\n",
       "      <th>mths_since_last_major_derog</th>\n",
       "      <th>policy_code</th>\n",
       "      <th>application_type</th>\n",
       "      <th>annual_inc_joint</th>\n",
       "      <th>dti_joint</th>\n",
       "      <th>verification_status_joint</th>\n",
       "      <th>acc_now_delinq</th>\n",
       "      <th>tot_coll_amt</th>\n",
       "      <th>tot_cur_bal</th>\n",
       "      <th>open_acc_6m</th>\n",
       "      <th>open_il_6m</th>\n",
       "      <th>open_il_12m</th>\n",
       "      <th>open_il_24m</th>\n",
       "      <th>mths_since_rcnt_il</th>\n",
       "      <th>total_bal_il</th>\n",
       "      <th>il_util</th>\n",
       "      <th>open_rv_12m</th>\n",
       "      <th>open_rv_24m</th>\n",
       "      <th>max_bal_bc</th>\n",
       "      <th>all_util</th>\n",
       "      <th>total_rev_hi_lim</th>\n",
       "      <th>inq_fi</th>\n",
       "      <th>total_cu_tl</th>\n",
       "      <th>inq_last_12m</th>\n",
       "      <th>default_ind</th>\n",
       "    </tr>\n",
       "  </thead>\n",
       "  <tbody>\n",
       "    <tr>\n",
       "      <th>0</th>\n",
       "      <td>1077501</td>\n",
       "      <td>1296599</td>\n",
       "      <td>5000.0</td>\n",
       "      <td>5000.0</td>\n",
       "      <td>4975.0</td>\n",
       "      <td>36 months</td>\n",
       "      <td>10.65</td>\n",
       "      <td>162.87</td>\n",
       "      <td>B</td>\n",
       "      <td>B2</td>\n",
       "      <td>NaN</td>\n",
       "      <td>10+ years</td>\n",
       "      <td>RENT</td>\n",
       "      <td>24000.0</td>\n",
       "      <td>Verified</td>\n",
       "      <td>Dec-2011</td>\n",
       "      <td>n</td>\n",
       "      <td>Borrower added on 12/22/11 &gt; I need to upgra...</td>\n",
       "      <td>credit_card</td>\n",
       "      <td>Computer</td>\n",
       "      <td>860xx</td>\n",
       "      <td>AZ</td>\n",
       "      <td>27.65</td>\n",
       "      <td>0.0</td>\n",
       "      <td>Jan-1985</td>\n",
       "      <td>1.0</td>\n",
       "      <td>NaN</td>\n",
       "      <td>NaN</td>\n",
       "      <td>3.0</td>\n",
       "      <td>0.0</td>\n",
       "      <td>13648.0</td>\n",
       "      <td>83.7</td>\n",
       "      <td>9.0</td>\n",
       "      <td>f</td>\n",
       "      <td>0.0</td>\n",
       "      <td>0.0</td>\n",
       "      <td>5861.071414</td>\n",
       "      <td>5831.78</td>\n",
       "      <td>5000.00</td>\n",
       "      <td>861.07</td>\n",
       "      <td>0.0</td>\n",
       "      <td>0.00</td>\n",
       "      <td>0.00</td>\n",
       "      <td>Jan-2015</td>\n",
       "      <td>171.62</td>\n",
       "      <td>NaN</td>\n",
       "      <td>Jan-2016</td>\n",
       "      <td>0.0</td>\n",
       "      <td>NaN</td>\n",
       "      <td>1.0</td>\n",
       "      <td>INDIVIDUAL</td>\n",
       "      <td>NaN</td>\n",
       "      <td>NaN</td>\n",
       "      <td>NaN</td>\n",
       "      <td>0.0</td>\n",
       "      <td>NaN</td>\n",
       "      <td>NaN</td>\n",
       "      <td>NaN</td>\n",
       "      <td>NaN</td>\n",
       "      <td>NaN</td>\n",
       "      <td>NaN</td>\n",
       "      <td>NaN</td>\n",
       "      <td>NaN</td>\n",
       "      <td>NaN</td>\n",
       "      <td>NaN</td>\n",
       "      <td>NaN</td>\n",
       "      <td>NaN</td>\n",
       "      <td>NaN</td>\n",
       "      <td>NaN</td>\n",
       "      <td>NaN</td>\n",
       "      <td>NaN</td>\n",
       "      <td>NaN</td>\n",
       "      <td>0</td>\n",
       "    </tr>\n",
       "    <tr>\n",
       "      <th>1</th>\n",
       "      <td>1077430</td>\n",
       "      <td>1314167</td>\n",
       "      <td>2500.0</td>\n",
       "      <td>2500.0</td>\n",
       "      <td>2500.0</td>\n",
       "      <td>60 months</td>\n",
       "      <td>15.27</td>\n",
       "      <td>59.83</td>\n",
       "      <td>C</td>\n",
       "      <td>C4</td>\n",
       "      <td>Ryder</td>\n",
       "      <td>&lt; 1 year</td>\n",
       "      <td>RENT</td>\n",
       "      <td>30000.0</td>\n",
       "      <td>Source Verified</td>\n",
       "      <td>Dec-2011</td>\n",
       "      <td>n</td>\n",
       "      <td>Borrower added on 12/22/11 &gt; I plan to use t...</td>\n",
       "      <td>car</td>\n",
       "      <td>bike</td>\n",
       "      <td>309xx</td>\n",
       "      <td>GA</td>\n",
       "      <td>1.00</td>\n",
       "      <td>0.0</td>\n",
       "      <td>Apr-1999</td>\n",
       "      <td>5.0</td>\n",
       "      <td>NaN</td>\n",
       "      <td>NaN</td>\n",
       "      <td>3.0</td>\n",
       "      <td>0.0</td>\n",
       "      <td>1687.0</td>\n",
       "      <td>9.4</td>\n",
       "      <td>4.0</td>\n",
       "      <td>f</td>\n",
       "      <td>0.0</td>\n",
       "      <td>0.0</td>\n",
       "      <td>1008.710000</td>\n",
       "      <td>1008.71</td>\n",
       "      <td>456.46</td>\n",
       "      <td>435.17</td>\n",
       "      <td>0.0</td>\n",
       "      <td>117.08</td>\n",
       "      <td>1.11</td>\n",
       "      <td>Apr-2013</td>\n",
       "      <td>119.66</td>\n",
       "      <td>NaN</td>\n",
       "      <td>Sep-2013</td>\n",
       "      <td>0.0</td>\n",
       "      <td>NaN</td>\n",
       "      <td>1.0</td>\n",
       "      <td>INDIVIDUAL</td>\n",
       "      <td>NaN</td>\n",
       "      <td>NaN</td>\n",
       "      <td>NaN</td>\n",
       "      <td>0.0</td>\n",
       "      <td>NaN</td>\n",
       "      <td>NaN</td>\n",
       "      <td>NaN</td>\n",
       "      <td>NaN</td>\n",
       "      <td>NaN</td>\n",
       "      <td>NaN</td>\n",
       "      <td>NaN</td>\n",
       "      <td>NaN</td>\n",
       "      <td>NaN</td>\n",
       "      <td>NaN</td>\n",
       "      <td>NaN</td>\n",
       "      <td>NaN</td>\n",
       "      <td>NaN</td>\n",
       "      <td>NaN</td>\n",
       "      <td>NaN</td>\n",
       "      <td>NaN</td>\n",
       "      <td>NaN</td>\n",
       "      <td>1</td>\n",
       "    </tr>\n",
       "  </tbody>\n",
       "</table>\n",
       "</div>"
      ],
      "text/plain": [
       "        id  member_id  loan_amnt  funded_amnt  funded_amnt_inv        term  \\\n",
       "0  1077501    1296599     5000.0       5000.0           4975.0   36 months   \n",
       "1  1077430    1314167     2500.0       2500.0           2500.0   60 months   \n",
       "\n",
       "   int_rate  installment grade sub_grade emp_title emp_length home_ownership  \\\n",
       "0     10.65       162.87     B        B2       NaN  10+ years           RENT   \n",
       "1     15.27        59.83     C        C4     Ryder   < 1 year           RENT   \n",
       "\n",
       "   annual_inc verification_status   issue_d pymnt_plan  \\\n",
       "0     24000.0            Verified  Dec-2011          n   \n",
       "1     30000.0     Source Verified  Dec-2011          n   \n",
       "\n",
       "                                                desc      purpose     title  \\\n",
       "0    Borrower added on 12/22/11 > I need to upgra...  credit_card  Computer   \n",
       "1    Borrower added on 12/22/11 > I plan to use t...          car      bike   \n",
       "\n",
       "  zip_code addr_state    dti  delinq_2yrs earliest_cr_line  inq_last_6mths  \\\n",
       "0    860xx         AZ  27.65          0.0         Jan-1985             1.0   \n",
       "1    309xx         GA   1.00          0.0         Apr-1999             5.0   \n",
       "\n",
       "   mths_since_last_delinq  mths_since_last_record  open_acc  pub_rec  \\\n",
       "0                     NaN                     NaN       3.0      0.0   \n",
       "1                     NaN                     NaN       3.0      0.0   \n",
       "\n",
       "   revol_bal  revol_util  total_acc initial_list_status  out_prncp  \\\n",
       "0    13648.0        83.7        9.0                   f        0.0   \n",
       "1     1687.0         9.4        4.0                   f        0.0   \n",
       "\n",
       "   out_prncp_inv  total_pymnt  total_pymnt_inv  total_rec_prncp  \\\n",
       "0            0.0  5861.071414          5831.78          5000.00   \n",
       "1            0.0  1008.710000          1008.71           456.46   \n",
       "\n",
       "   total_rec_int  total_rec_late_fee  recoveries  collection_recovery_fee  \\\n",
       "0         861.07                 0.0        0.00                     0.00   \n",
       "1         435.17                 0.0      117.08                     1.11   \n",
       "\n",
       "  last_pymnt_d  last_pymnt_amnt next_pymnt_d last_credit_pull_d  \\\n",
       "0     Jan-2015           171.62          NaN           Jan-2016   \n",
       "1     Apr-2013           119.66          NaN           Sep-2013   \n",
       "\n",
       "   collections_12_mths_ex_med  mths_since_last_major_derog  policy_code  \\\n",
       "0                         0.0                          NaN          1.0   \n",
       "1                         0.0                          NaN          1.0   \n",
       "\n",
       "  application_type  annual_inc_joint  dti_joint verification_status_joint  \\\n",
       "0       INDIVIDUAL               NaN        NaN                       NaN   \n",
       "1       INDIVIDUAL               NaN        NaN                       NaN   \n",
       "\n",
       "   acc_now_delinq  tot_coll_amt  tot_cur_bal  open_acc_6m  open_il_6m  \\\n",
       "0             0.0           NaN          NaN          NaN         NaN   \n",
       "1             0.0           NaN          NaN          NaN         NaN   \n",
       "\n",
       "   open_il_12m  open_il_24m  mths_since_rcnt_il  total_bal_il  il_util  \\\n",
       "0          NaN          NaN                 NaN           NaN      NaN   \n",
       "1          NaN          NaN                 NaN           NaN      NaN   \n",
       "\n",
       "   open_rv_12m  open_rv_24m  max_bal_bc  all_util  total_rev_hi_lim  inq_fi  \\\n",
       "0          NaN          NaN         NaN       NaN               NaN     NaN   \n",
       "1          NaN          NaN         NaN       NaN               NaN     NaN   \n",
       "\n",
       "   total_cu_tl  inq_last_12m  default_ind  \n",
       "0          NaN           NaN            0  \n",
       "1          NaN           NaN            1  "
      ]
     },
     "execution_count": 5,
     "metadata": {},
     "output_type": "execute_result"
    }
   ],
   "source": [
    "df_copy = pd.DataFrame.copy(df)\n",
    "pd.set_option('display.max_columns', 80)\n",
    "df_copy.head(n = 2)"
   ]
  },
  {
   "cell_type": "markdown",
   "metadata": {},
   "source": [
    "<h3>Before proceeding ahead , lets remove those variables which are not important for modeling or prediction.</h3>"
   ]
  },
  {
   "cell_type": "markdown",
   "metadata": {},
   "source": [
    "<h4>Variables \"id\" , \"member_id\" , \"zip_code\" , \"addr_state\" , \"last_pymnt_d\" , \"next_pymnt_d\" , \"last_credit_pull_d\",\"desc\" and \"policy_code\" should be removed as they are not important for modeling. We wont remove \"issue_d\" for now cause we will have to use it for spliting our data in train and test .</h4>"
   ]
  },
  {
   "cell_type": "code",
   "execution_count": 6,
   "metadata": {
    "collapsed": true
   },
   "outputs": [],
   "source": [
    "remove_list = [\"id\" , \"member_id\" , \"zip_code\" , \"addr_state\" , \"last_pymnt_d\" , \"next_pymnt_d\" , \"last_credit_pull_d\" \n",
    "               , \"desc\" ,\"policy_code\"]\n",
    "for i in remove_list:\n",
    "    del df_copy[i]"
   ]
  },
  {
   "cell_type": "markdown",
   "metadata": {},
   "source": [
    "<h4>The on going payment processes should not be considered as these values can mislead the machine to predict wrong values</h4>\n",
    "<b>As the problem statement states : </b>\n",
    "<h5>\"In this project you will have to put yourself in the shoes of a loan issuer and manage credit risk by using the past data and deciding whom to give the loan to in the future. The text files contain complete loan data for all loans issued by XYZ Corp. through 2007-2015. The data contains the indicator of default, payment information, credit history, etc.\n",
    "The data should be divided into train ( June 2007 - May 2015 ) and out-of-time test ( June 2015 - Dec 2015 ) data.\"</h5><br>\n",
    "<b>\"DECIDING WHOM TO GIVE LOAN IN FUTURE\"</b><br>\n",
    "<b>So , variables like<b> <br>\n",
    "<b>total_pymnt\t: Payments received to date for total amount funded</b><br>\n",
    "<b>total_pymnt_inv :\tPayments received to date for portion of total amount funded by investors</b><br>\n",
    "<b>total_rec_int :\tInterest received to date </b><br>\n",
    "<b>total_rec_late_fee :\tLate fees received to date </b><br>\n",
    "<b>total_rec_prncp\t: Principal received to date</b><br>\n",
    "<b>So whenever a customer comes for loan i wont ask him \"How much amount of loan have you cleared yet ?\" , how will the customer answer this question , when we have not yet decided whether to give loan or not to the customer.</b><br>\n",
    "<b>And even this values may mislead the model to predict wrong values cause we have to predict on data of customers who's final loan payment date hasnt even arrived or have taken the loan recently .</b>"
   ]
  },
  {
   "cell_type": "code",
   "execution_count": 7,
   "metadata": {
    "collapsed": true
   },
   "outputs": [],
   "source": [
    "remove_list = [\"total_pymnt\" , \"total_pymnt_inv\" , \"total_rec_int\" , \"total_rec_late_fee\" , \"total_rec_prncp\"]\n",
    "for i in remove_list:\n",
    "    del df_copy[i]"
   ]
  },
  {
   "cell_type": "code",
   "execution_count": 8,
   "metadata": {},
   "outputs": [
    {
     "data": {
      "text/plain": [
       "(855969, 59)"
      ]
     },
     "execution_count": 8,
     "metadata": {},
     "output_type": "execute_result"
    }
   ],
   "source": [
    "df_copy.shape"
   ]
  },
  {
   "cell_type": "markdown",
   "metadata": {},
   "source": [
    "<h3>Missing Values </h3> "
   ]
  },
  {
   "cell_type": "code",
   "execution_count": 17,
   "metadata": {},
   "outputs": [
    {
     "data": {
      "image/png": "[encoded data removed]",
      "text/plain": [
       "<matplotlib.figure.Figure at 0x13f33c3dcc0>"
      ]
     },
     "metadata": {},
     "output_type": "display_data"
    }
   ],
   "source": [
    "def nulls():\n",
    "    mvs = pd.DataFrame()\n",
    "    labels = []\n",
    "    percent = []\n",
    "    \n",
    "    for cols in df.columns.values:\n",
    "        if df[cols].isnull().sum() > 0:\n",
    "            p = (df[cols].isnull().sum()/df.shape[0])\n",
    "            labels.append(cols)\n",
    "            percent.append(p)\n",
    "    mvs[\"labels\"] = labels\n",
    "    mvs[\"percent\"] = percent\n",
    "    mvs = mvs.sort_values(\"percent\")\n",
    "    y_pos = np.arange(len(mvs))\n",
    "    plt.barh(y_pos , mvs[\"percent\"]  , align = \"center\" , alpha = 0.5)\n",
    "    plt.yticks(y_pos , mvs[\"labels\"])\n",
    "    plt.xlabel(\"Percent of missing values\")\n",
    "    plt.title(\"Missing value plot\") \n",
    "    plt.rcParams[\"figure.figsize\"] = (15,5)\n",
    "    plt.show()\n",
    "nulls()"
   ]
  },
  {
   "cell_type": "markdown",
   "metadata": {},
   "source": [
    "<b>1)As we can infer from the plot that many variables have missing values more than 40% of data.</b>\n",
    "<br>\n",
    "<b>2)In this case we can remove these variables which have missing values more than 40% .</b>\n",
    "<h4>Before removing these column we can use dti_joint to combine dti and dti_joint of applicants type joint and replace these calculated dti values of applicants type joint with dti value.</h4>\n",
    "<b>Cause Applicant type joint means 2 people together have issued loan .</b><br>\n",
    "<b>So the dept to income(dti) ratio of one individual from applicant type joint is stored in dti and the dti ratio of other individual is saved in dti_joint.</b><br>\n",
    "<b>If we remove dti_joint because of missing values then we might loose important information.</b><br>\n",
    "<b>Dept to income ratio is very important feature or variable in underwritting , to predict whether the loan issuer will default or not.</b><br>\n",
    "<h5>Formula to calculate Dept To Income Ratio :</h5>\n",
    "<b>Debt to income ratio = Monthly Expenses / Monthly Income </b><br>\n",
    "<br>\n",
    "<b> To get joint dti of Applicant joint we will have find Monthly expenses of both the individuals of applicant type joint.</b><br>\n",
    "<b>We can calculate Monthly Expense by multiplying  dept to income ratio into monthly income<b>\n",
    "\n",
    "<h4>Another reason to compute this value is because ,the applicant type individual is more than 90% and applicant type joint are only 10% .This is a case of imbalanced independent variable, which can lead the model to perform bad.</h4>\n",
    "<h3>Check the plot below.</h3>"
   ]
  },
  {
   "cell_type": "code",
   "execution_count": 18,
   "metadata": {},
   "outputs": [
    {
     "data": {
      "image/png": "[encoded data removed]",
      "text/plain": [
       "<matplotlib.figure.Figure at 0x13f21330c88>"
      ]
     },
     "metadata": {},
     "output_type": "display_data"
    }
   ],
   "source": [
    "labels = 'individual', 'joint'\n",
    "sizes = [855527, 442 ]\n",
    "colors = ['lightskyblue', 'yellow']\n",
    "explode = (0.10, 0.5)  # explode 1st slice\n",
    " \n",
    "# Plot\n",
    "patches , text = plt.pie(sizes, explode=explode, labels=labels, colors=colors, shadow=True, startangle=140)\n",
    "plt.legend(patches, labels, loc=\"best\")\n",
    "plt.axis('equal')\n",
    "plt.show()"
   ]
  },
  {
   "cell_type": "code",
   "execution_count": 19,
   "metadata": {},
   "outputs": [
    {
     "data": {
      "text/plain": [
       "INDIVIDUAL    855527\n",
       "JOINT            442\n",
       "Name: application_type, dtype: int64"
      ]
     },
     "execution_count": 19,
     "metadata": {},
     "output_type": "execute_result"
    }
   ],
   "source": [
    "df[\"application_type\"].value_counts()"
   ]
  },
  {
   "cell_type": "markdown",
   "metadata": {},
   "source": [
    "<b>There are only 442 joint applicants out of 855969 applicants ,which is very less.</b><br>\n",
    "<b>Therefore creating new dti values for applicant type joint is a better option.</b><br>\n",
    "<b>Same we can do with annual income and annual income joint.</b><br>\n",
    "\n",
    "<b>So now lets create a functions to replace the dti ratio and annual income of joint applicant's.<b>"
   ]
  },
  {
   "cell_type": "code",
   "execution_count": 20,
   "metadata": {
    "collapsed": true
   },
   "outputs": [],
   "source": [
    "def newDti(df):\n",
    "    monthly_inc = (df[\"annual_inc\"][df[\"dti_joint\"].isnull() == False]/12)\n",
    "    monthly_inc_joint = (df[\"annual_inc_joint\"][df[\"dti_joint\"].isnull() == False]/12)\n",
    " \n",
    "    dti_ = (df[\"dti\"][df[\"dti_joint\"].isnull() == False])\n",
    "    dti_j = (df[\"dti_joint\"][df[\"dti_joint\"].isnull() == False])\n",
    "    \n",
    "    monthly_expenses = dti_*monthly_inc\n",
    "    monthly_expenses_joint = dti_j*monthly_inc_joint\n",
    "    \n",
    "    numerator = monthly_expenses + monthly_expenses_joint\n",
    "    denominator = monthly_inc + monthly_inc_joint    \n",
    "    \n",
    "    new_dti = numerator/denominator\n",
    "    \n",
    "    ind = df[\"dti\"][df[\"dti_joint\"].isnull() == False].index\n",
    "    \n",
    "    df[\"dti\"][ind] = new_dti\n",
    "\n",
    "def new_annual_inc(df):\n",
    "    \n",
    "    combined_inc = df[\"annual_inc\"][df[\"annual_inc_joint\"].isnull() == False] + df[\"annual_inc_joint\"][df[\"annual_inc_joint\"].isnull() ==  False]\n",
    "    ind = df[\"annual_inc\"][df[\"annual_inc_joint\"].isnull() == False].index\n",
    "    df[\"annual_inc\"][ind] = combined_inc\n"
   ]
  },
  {
   "cell_type": "code",
   "execution_count": 21,
   "metadata": {
    "collapsed": true
   },
   "outputs": [],
   "source": [
    "newDti(df_copy)"
   ]
  },
  {
   "cell_type": "code",
   "execution_count": 22,
   "metadata": {
    "collapsed": true
   },
   "outputs": [],
   "source": [
    "new_annual_inc(df_copy)"
   ]
  },
  {
   "cell_type": "markdown",
   "metadata": {},
   "source": [
    "<h3>Removing variables which have missing values more than 40%.</h3>"
   ]
  },
  {
   "cell_type": "code",
   "execution_count": 23,
   "metadata": {
    "collapsed": true
   },
   "outputs": [],
   "source": [
    "def remove_variables_missing_values_more_than_40_percent(df):\n",
    "    for var in df.columns.values:\n",
    "        if (df[var].isnull().sum()/df.shape[0]) >= 0.4:\n",
    "            del df[var]\n",
    "            \n",
    "remove_variables_missing_values_more_than_40_percent(df_copy)"
   ]
  },
  {
   "cell_type": "code",
   "execution_count": 24,
   "metadata": {},
   "outputs": [
    {
     "data": {
      "text/plain": [
       "(855969, 39)"
      ]
     },
     "execution_count": 24,
     "metadata": {},
     "output_type": "execute_result"
    }
   ],
   "source": [
    "df_copy.shape"
   ]
  },
  {
   "cell_type": "markdown",
   "metadata": {},
   "source": [
    "<h3>Below are the variables which are important according to the problem statement.</h3>"
   ]
  },
  {
   "cell_type": "code",
   "execution_count": 25,
   "metadata": {
    "collapsed": true
   },
   "outputs": [],
   "source": [
    "final_var= [\n",
    "\"annual_inc\",\"delinq_2yrs\",\"dti\",\"emp_length\",\"funded_amnt\",\"grade\",\"home_ownership\",\"initial_list_status\",\n",
    "\"installment\",\"int_rate\",\"loan_amnt\",\"open_acc\",\"inq_last_6mths\",\"pub_rec\",\"purpose\",\"revol_bal\",\"term\",\n",
    "\"verification_status\",\"tot_cur_bal\",\"issue_d\",\"recoveries\",\"collections_12_mths_ex_med\",\"default_ind\"\n",
    "]\n",
    "def kep_col(data,var):\n",
    "    for col in data.columns.values:\n",
    "        if not col in var:\n",
    "            del data[col]\n",
    "\n",
    "kep_col(df_copy , final_var)"
   ]
  },
  {
   "cell_type": "code",
   "execution_count": 26,
   "metadata": {},
   "outputs": [
    {
     "data": {
      "text/plain": [
       "(855969, 23)"
      ]
     },
     "execution_count": 26,
     "metadata": {},
     "output_type": "execute_result"
    }
   ],
   "source": [
    "df_copy.shape"
   ]
  },
  {
   "cell_type": "code",
   "execution_count": 27,
   "metadata": {},
   "outputs": [
    {
     "data": {
      "text/plain": [
       "loan_amnt                         0\n",
       "funded_amnt                       0\n",
       "term                              0\n",
       "int_rate                          0\n",
       "installment                       0\n",
       "grade                             0\n",
       "emp_length                        0\n",
       "home_ownership                    0\n",
       "annual_inc                        0\n",
       "verification_status               0\n",
       "issue_d                           0\n",
       "purpose                           0\n",
       "dti                               0\n",
       "delinq_2yrs                       0\n",
       "inq_last_6mths                    0\n",
       "open_acc                          0\n",
       "pub_rec                           0\n",
       "revol_bal                         0\n",
       "initial_list_status               0\n",
       "recoveries                        0\n",
       "collections_12_mths_ex_med       56\n",
       "tot_cur_bal                   67313\n",
       "default_ind                       0\n",
       "dtype: int64"
      ]
     },
     "execution_count": 27,
     "metadata": {},
     "output_type": "execute_result"
    }
   ],
   "source": [
    "df_copy.isnull().sum()"
   ]
  },
  {
   "cell_type": "markdown",
   "metadata": {},
   "source": [
    "<h3>Treating missing values</h3>"
   ]
  },
  {
   "cell_type": "code",
   "execution_count": 28,
   "metadata": {},
   "outputs": [
    {
     "name": "stdout",
     "output_type": "stream",
     "text": [
      "mode :  0.0\n",
      "mean :  139766.24752870706\n",
      "quantile 0.05 :  9174.75 quantile 0.25 :  29870.0 quantile 0.50 :  81008.5 quantile 0.75 :  208703.25 quantile 0.95 :  425148.25\n"
     ]
    }
   ],
   "source": [
    "print(\"mode : \",df_copy[\"tot_cur_bal\"].mode()[0])\n",
    "print(\"mean : \",np.mean(df_copy[\"tot_cur_bal\"]))\n",
    "print(\"quantile 0.05 : \",df_copy[\"tot_cur_bal\"].quantile(0.05),\"quantile 0.25 : \",df_copy[\"tot_cur_bal\"].quantile(0.25) ,\n",
    "      \"quantile 0.50 : \", df_copy[\"tot_cur_bal\"].quantile(0.50) , \n",
    "      \"quantile 0.75 : \",df_copy[\"tot_cur_bal\"].quantile(0.75) ,\"quantile 0.95 : \", df_copy[\"tot_cur_bal\"].quantile(0.95))"
   ]
  },
  {
   "cell_type": "code",
   "execution_count": 29,
   "metadata": {
    "collapsed": true
   },
   "outputs": [],
   "source": [
    "df_copy['tot_cur_bal'].fillna(df_copy['tot_cur_bal'].mean(),inplace=True) "
   ]
  },
  {
   "cell_type": "code",
   "execution_count": 30,
   "metadata": {
    "collapsed": true
   },
   "outputs": [],
   "source": [
    "df_copy['collections_12_mths_ex_med'].fillna(df_copy['collections_12_mths_ex_med'].mean(),inplace=True) "
   ]
  },
  {
   "cell_type": "markdown",
   "metadata": {},
   "source": [
    "<h3>Correlation Matrix</h3>"
   ]
  },
  {
   "cell_type": "code",
   "execution_count": 31,
   "metadata": {},
   "outputs": [
    {
     "data": {
      "image/png": "[encoded data removed]",
      "text/plain": [
       "<matplotlib.figure.Figure at 0x13f34797630>"
      ]
     },
     "metadata": {},
     "output_type": "display_data"
    }
   ],
   "source": [
    "correlation_matrix = df_copy.corr()\n",
    "a4_dimens = (15.7 , 10.27)\n",
    "fig , ax = plt.subplots(figsize = a4_dimens)\n",
    "sns.heatmap(correlation_matrix, cmap=\"Blues\", vmax=0.8, center=0,\n",
    "            square=True, linewidths=.5, cbar_kws={\"shrink\": .5} , \n",
    "            annot=True,\n",
    "            xticklabels=correlation_matrix.columns.values ,\n",
    "            yticklabels=correlation_matrix.columns.values,\n",
    "            )\n",
    "\n",
    "plt.xticks(rotation = 90)\n",
    "plt.yticks(rotation = 360)\n",
    "plt.show()"
   ]
  },
  {
   "cell_type": "markdown",
   "metadata": {},
   "source": [
    "<h4>From the below plot we infer that \"loan_amnt\",\"funded_amnt\"and\"installment\" are highly correlated to each other and can lead the model to perform poor. So in this case we can remove funded_amnt and installment , both are derieved from loan_amnt . </h4>"
   ]
  },
  {
   "cell_type": "code",
   "execution_count": 32,
   "metadata": {
    "collapsed": true
   },
   "outputs": [],
   "source": [
    "del df_copy[\"installment\" ]\n",
    "del df_copy[\"funded_amnt\"]"
   ]
  },
  {
   "cell_type": "code",
   "execution_count": 33,
   "metadata": {},
   "outputs": [
    {
     "data": {
      "text/plain": [
       "(855969, 21)"
      ]
     },
     "execution_count": 33,
     "metadata": {},
     "output_type": "execute_result"
    }
   ],
   "source": [
    "df_copy.shape"
   ]
  },
  {
   "cell_type": "code",
   "execution_count": 34,
   "metadata": {
    "scrolled": true
   },
   "outputs": [
    {
     "data": {
      "text/html": [
       "<div>\n",
       "<style>\n",
       "    .dataframe thead tr:only-child th {\n",
       "        text-align: right;\n",
       "    }\n",
       "\n",
       "    .dataframe thead th {\n",
       "        text-align: left;\n",
       "    }\n",
       "\n",
       "    .dataframe tbody tr th {\n",
       "        vertical-align: top;\n",
       "    }\n",
       "</style>\n",
       "<table border=\"1\" class=\"dataframe\">\n",
       "  <thead>\n",
       "    <tr style=\"text-align: right;\">\n",
       "      <th></th>\n",
       "      <th>loan_amnt</th>\n",
       "      <th>int_rate</th>\n",
       "      <th>annual_inc</th>\n",
       "      <th>dti</th>\n",
       "      <th>delinq_2yrs</th>\n",
       "      <th>inq_last_6mths</th>\n",
       "      <th>open_acc</th>\n",
       "      <th>pub_rec</th>\n",
       "      <th>revol_bal</th>\n",
       "      <th>recoveries</th>\n",
       "      <th>collections_12_mths_ex_med</th>\n",
       "      <th>tot_cur_bal</th>\n",
       "      <th>default_ind</th>\n",
       "    </tr>\n",
       "  </thead>\n",
       "  <tbody>\n",
       "    <tr>\n",
       "      <th>count</th>\n",
       "      <td>855969.000000</td>\n",
       "      <td>855969.000000</td>\n",
       "      <td>8.559690e+05</td>\n",
       "      <td>855969.000000</td>\n",
       "      <td>855969.000000</td>\n",
       "      <td>855969.000000</td>\n",
       "      <td>855969.000000</td>\n",
       "      <td>855969.000000</td>\n",
       "      <td>8.559690e+05</td>\n",
       "      <td>855969.000000</td>\n",
       "      <td>855969.000000</td>\n",
       "      <td>8.559690e+05</td>\n",
       "      <td>855969.000000</td>\n",
       "    </tr>\n",
       "    <tr>\n",
       "      <th>mean</th>\n",
       "      <td>14745.571335</td>\n",
       "      <td>13.192320</td>\n",
       "      <td>7.512665e+04</td>\n",
       "      <td>18.092736</td>\n",
       "      <td>0.311621</td>\n",
       "      <td>0.680915</td>\n",
       "      <td>11.542447</td>\n",
       "      <td>0.194537</td>\n",
       "      <td>1.691053e+04</td>\n",
       "      <td>47.089499</td>\n",
       "      <td>0.014230</td>\n",
       "      <td>1.397662e+05</td>\n",
       "      <td>0.054286</td>\n",
       "    </tr>\n",
       "    <tr>\n",
       "      <th>std</th>\n",
       "      <td>8425.340005</td>\n",
       "      <td>4.368365</td>\n",
       "      <td>6.431335e+04</td>\n",
       "      <td>8.285908</td>\n",
       "      <td>0.857189</td>\n",
       "      <td>0.964033</td>\n",
       "      <td>5.308094</td>\n",
       "      <td>0.581585</td>\n",
       "      <td>2.222374e+04</td>\n",
       "      <td>413.136043</td>\n",
       "      <td>0.133707</td>\n",
       "      <td>1.477618e+05</td>\n",
       "      <td>0.226581</td>\n",
       "    </tr>\n",
       "    <tr>\n",
       "      <th>min</th>\n",
       "      <td>500.000000</td>\n",
       "      <td>5.320000</td>\n",
       "      <td>3.000000e+03</td>\n",
       "      <td>0.000000</td>\n",
       "      <td>0.000000</td>\n",
       "      <td>0.000000</td>\n",
       "      <td>0.000000</td>\n",
       "      <td>0.000000</td>\n",
       "      <td>0.000000e+00</td>\n",
       "      <td>0.000000</td>\n",
       "      <td>0.000000</td>\n",
       "      <td>0.000000e+00</td>\n",
       "      <td>0.000000</td>\n",
       "    </tr>\n",
       "    <tr>\n",
       "      <th>25%</th>\n",
       "      <td>8000.000000</td>\n",
       "      <td>9.990000</td>\n",
       "      <td>4.500000e+04</td>\n",
       "      <td>11.880000</td>\n",
       "      <td>0.000000</td>\n",
       "      <td>0.000000</td>\n",
       "      <td>8.000000</td>\n",
       "      <td>0.000000</td>\n",
       "      <td>6.469000e+03</td>\n",
       "      <td>0.000000</td>\n",
       "      <td>0.000000</td>\n",
       "      <td>3.225000e+04</td>\n",
       "      <td>0.000000</td>\n",
       "    </tr>\n",
       "    <tr>\n",
       "      <th>50%</th>\n",
       "      <td>13000.000000</td>\n",
       "      <td>12.990000</td>\n",
       "      <td>6.500000e+04</td>\n",
       "      <td>17.610000</td>\n",
       "      <td>0.000000</td>\n",
       "      <td>0.000000</td>\n",
       "      <td>11.000000</td>\n",
       "      <td>0.000000</td>\n",
       "      <td>1.190300e+04</td>\n",
       "      <td>0.000000</td>\n",
       "      <td>0.000000</td>\n",
       "      <td>1.005610e+05</td>\n",
       "      <td>0.000000</td>\n",
       "    </tr>\n",
       "    <tr>\n",
       "      <th>75%</th>\n",
       "      <td>20000.000000</td>\n",
       "      <td>15.990000</td>\n",
       "      <td>9.000000e+04</td>\n",
       "      <td>23.890000</td>\n",
       "      <td>0.000000</td>\n",
       "      <td>1.000000</td>\n",
       "      <td>14.000000</td>\n",
       "      <td>0.000000</td>\n",
       "      <td>2.085700e+04</td>\n",
       "      <td>0.000000</td>\n",
       "      <td>0.000000</td>\n",
       "      <td>1.963730e+05</td>\n",
       "      <td>0.000000</td>\n",
       "    </tr>\n",
       "    <tr>\n",
       "      <th>max</th>\n",
       "      <td>35000.000000</td>\n",
       "      <td>28.990000</td>\n",
       "      <td>9.500000e+06</td>\n",
       "      <td>60.403669</td>\n",
       "      <td>39.000000</td>\n",
       "      <td>8.000000</td>\n",
       "      <td>90.000000</td>\n",
       "      <td>86.000000</td>\n",
       "      <td>2.904836e+06</td>\n",
       "      <td>33520.270000</td>\n",
       "      <td>20.000000</td>\n",
       "      <td>8.000078e+06</td>\n",
       "      <td>1.000000</td>\n",
       "    </tr>\n",
       "  </tbody>\n",
       "</table>\n",
       "</div>"
      ],
      "text/plain": [
       "           loan_amnt       int_rate    annual_inc            dti  \\\n",
       "count  855969.000000  855969.000000  8.559690e+05  855969.000000   \n",
       "mean    14745.571335      13.192320  7.512665e+04      18.092736   \n",
       "std      8425.340005       4.368365  6.431335e+04       8.285908   \n",
       "min       500.000000       5.320000  3.000000e+03       0.000000   \n",
       "25%      8000.000000       9.990000  4.500000e+04      11.880000   \n",
       "50%     13000.000000      12.990000  6.500000e+04      17.610000   \n",
       "75%     20000.000000      15.990000  9.000000e+04      23.890000   \n",
       "max     35000.000000      28.990000  9.500000e+06      60.403669   \n",
       "\n",
       "         delinq_2yrs  inq_last_6mths       open_acc        pub_rec  \\\n",
       "count  855969.000000   855969.000000  855969.000000  855969.000000   \n",
       "mean        0.311621        0.680915      11.542447       0.194537   \n",
       "std         0.857189        0.964033       5.308094       0.581585   \n",
       "min         0.000000        0.000000       0.000000       0.000000   \n",
       "25%         0.000000        0.000000       8.000000       0.000000   \n",
       "50%         0.000000        0.000000      11.000000       0.000000   \n",
       "75%         0.000000        1.000000      14.000000       0.000000   \n",
       "max        39.000000        8.000000      90.000000      86.000000   \n",
       "\n",
       "          revol_bal     recoveries  collections_12_mths_ex_med   tot_cur_bal  \\\n",
       "count  8.559690e+05  855969.000000               855969.000000  8.559690e+05   \n",
       "mean   1.691053e+04      47.089499                    0.014230  1.397662e+05   \n",
       "std    2.222374e+04     413.136043                    0.133707  1.477618e+05   \n",
       "min    0.000000e+00       0.000000                    0.000000  0.000000e+00   \n",
       "25%    6.469000e+03       0.000000                    0.000000  3.225000e+04   \n",
       "50%    1.190300e+04       0.000000                    0.000000  1.005610e+05   \n",
       "75%    2.085700e+04       0.000000                    0.000000  1.963730e+05   \n",
       "max    2.904836e+06   33520.270000                   20.000000  8.000078e+06   \n",
       "\n",
       "         default_ind  \n",
       "count  855969.000000  \n",
       "mean        0.054286  \n",
       "std         0.226581  \n",
       "min         0.000000  \n",
       "25%         0.000000  \n",
       "50%         0.000000  \n",
       "75%         0.000000  \n",
       "max         1.000000  "
      ]
     },
     "execution_count": 34,
     "metadata": {},
     "output_type": "execute_result"
    }
   ],
   "source": [
    "df_copy.describe()"
   ]
  },
  {
   "cell_type": "code",
   "execution_count": 35,
   "metadata": {},
   "outputs": [
    {
     "name": "stdout",
     "output_type": "stream",
     "text": [
      "delinq_2yrs\n",
      "value :  0.0 appearance :  692685  : percent :  80.9240755214266 \n",
      "\n",
      "pub_rec\n",
      "value :  0.0 appearance :  725455  : percent :  84.75248519514142 \n",
      "\n",
      "recoveries\n",
      "value :  0.0 appearance :  831782  : percent :  97.17431355574793 \n",
      "\n",
      "collections_12_mths_ex_med\n",
      "value :  0.0 appearance :  844768  : percent :  98.69142457261887 \n",
      "\n"
     ]
    }
   ],
   "source": [
    "def biased_IF(data):\n",
    "    for x in data:\n",
    "        val = data[x].unique()[0]\n",
    "        s = data[x][data[x] == val].size\n",
    "        p = (s/data.shape[0])*100\n",
    "        \n",
    "        if p >= 50 and (data[x].dtype == \"int\" or data[x].dtype == \"float64\") :\n",
    "            \n",
    "            print(x)\n",
    "            print(\"value : \",val,\"appearance : \",s , \" : percent : \",p , \"\\n\")\n",
    "            \n",
    "biased_IF(df_copy)"
   ]
  },
  {
   "cell_type": "markdown",
   "metadata": {},
   "source": [
    "<h4>From the above output we see that varibles recoveries  and collection_12_mths_ex_med have more than 90% biased values . This lead the model to perform poor . in this case we can remove these 2 variables .</h4>\n",
    "<h4>But we can still use pub_rec and delinq_2yrs , we can convert these variables into categorical data .</h4>"
   ]
  },
  {
   "cell_type": "code",
   "execution_count": 37,
   "metadata": {},
   "outputs": [
    {
     "data": {
      "text/plain": [
       "(855969, 19)"
      ]
     },
     "execution_count": 37,
     "metadata": {},
     "output_type": "execute_result"
    }
   ],
   "source": [
    "df_copy = df_copy.drop(['recoveries','collections_12_mths_ex_med'],axis=1) \n",
    "df_copy.shape"
   ]
  }
 ],
 "metadata": {
  "kernelspec": {
   "display_name": "Python 3",
   "language": "python",
   "name": "python3"
  },
  "language_info": {
   "codemirror_mode": {
    "name": "ipython",
    "version": 3
   },
   "file_extension": ".py",
   "mimetype": "text/x-python",
   "name": "python",
   "nbconvert_exporter": "python",
   "pygments_lexer": "ipython3",
   "version": "3.6.2"
  }
 },
 "nbformat": 4,
 "nbformat_minor": 2
}
