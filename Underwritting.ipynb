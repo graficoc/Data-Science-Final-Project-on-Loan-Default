{
 "cells": [
  {
   "cell_type": "markdown",
   "metadata": {},
   "source": [
    "<h2>Underwitting</h2>\n",
    "<h3>Loan data for all loans issued by XYZ Corp. through 2007-2015.</h3>\n",
    "<h3>Objective :-</h3>\n",
    "<h4>You have to build a data model to predict the probability of default, and choose a cut-off based on what you feel is suitable. Alternatively you can also use a modelling technique which gives binary output.</h4>"
   ]
  },
  {
   "cell_type": "code",
   "execution_count": 1,
   "metadata": {
    "collapsed": true
   },
   "outputs": [],
   "source": [
    "import pandas as pd\n",
    "import math\n",
    "import numpy as np \n",
    "from scipy import stats \n",
    "import matplotlib.pyplot as plt\n",
    "import seaborn as sns \n",
    "import datetime\n",
    "from  collections import Counter \n",
    "from sklearn.metrics import confusion_matrix , classification_report , accuracy_score\n",
    "from sklearn.linear_model import LogisticRegression \n",
    "#from sklearn.cross_validation import KFold\n",
    "#from sklearn.grid_search import GridSearchCV\n",
    "from xgboost import XGBClassifier\n",
    "from sklearn.svm import SVC\n",
    "from sklearn.tree import DecisionTreeClassifier\n",
    "from sklearn.ensemble import RandomForestClassifier\n",
    "import warnings\n",
    "warnings.filterwarnings(\"ignore\")"
   ]
  },
  {
   "cell_type": "code",
   "execution_count": 2,
   "metadata": {
    "collapsed": true
   },
   "outputs": [],
   "source": [
    "df = pd.read_table(r\"C:\\Users\\kusha\\Desktop\\data sci\\python\\pythonProject\\XYZCorp_LendingData.text\" , index_col = None)"
   ]
  },
  {
   "cell_type": "code",
   "execution_count": 3,
   "metadata": {},
   "outputs": [
    {
     "data": {
      "text/plain": [
       "(855969, 73)"
      ]
     },
     "execution_count": 3,
     "metadata": {},
     "output_type": "execute_result"
    }
   ],
   "source": [
    "df.shape"
   ]
  },
  {
   "cell_type": "code",
   "execution_count": 4,
   "metadata": {},
   "outputs": [
    {
     "data": {
      "text/html": [
       "<div>\n",
       "<style>\n",
       "    .dataframe thead tr:only-child th {\n",
       "        text-align: right;\n",
       "    }\n",
       "\n",
       "    .dataframe thead th {\n",
       "        text-align: left;\n",
       "    }\n",
       "\n",
       "    .dataframe tbody tr th {\n",
       "        vertical-align: top;\n",
       "    }\n",
       "</style>\n",
       "<table border=\"1\" class=\"dataframe\">\n",
       "  <thead>\n",
       "    <tr style=\"text-align: right;\">\n",
       "      <th></th>\n",
       "      <th>id</th>\n",
       "      <th>member_id</th>\n",
       "      <th>loan_amnt</th>\n",
       "      <th>funded_amnt</th>\n",
       "      <th>funded_amnt_inv</th>\n",
       "      <th>term</th>\n",
       "      <th>int_rate</th>\n",
       "      <th>installment</th>\n",
       "      <th>grade</th>\n",
       "      <th>sub_grade</th>\n",
       "      <th>...</th>\n",
       "      <th>il_util</th>\n",
       "      <th>open_rv_12m</th>\n",
       "      <th>open_rv_24m</th>\n",
       "      <th>max_bal_bc</th>\n",
       "      <th>all_util</th>\n",
       "      <th>total_rev_hi_lim</th>\n",
       "      <th>inq_fi</th>\n",
       "      <th>total_cu_tl</th>\n",
       "      <th>inq_last_12m</th>\n",
       "      <th>default_ind</th>\n",
       "    </tr>\n",
       "  </thead>\n",
       "  <tbody>\n",
       "    <tr>\n",
       "      <th>0</th>\n",
       "      <td>1077501</td>\n",
       "      <td>1296599</td>\n",
       "      <td>5000.0</td>\n",
       "      <td>5000.0</td>\n",
       "      <td>4975.0</td>\n",
       "      <td>36 months</td>\n",
       "      <td>10.65</td>\n",
       "      <td>162.87</td>\n",
       "      <td>B</td>\n",
       "      <td>B2</td>\n",
       "      <td>...</td>\n",
       "      <td>NaN</td>\n",
       "      <td>NaN</td>\n",
       "      <td>NaN</td>\n",
       "      <td>NaN</td>\n",
       "      <td>NaN</td>\n",
       "      <td>NaN</td>\n",
       "      <td>NaN</td>\n",
       "      <td>NaN</td>\n",
       "      <td>NaN</td>\n",
       "      <td>0</td>\n",
       "    </tr>\n",
       "    <tr>\n",
       "      <th>1</th>\n",
       "      <td>1077430</td>\n",
       "      <td>1314167</td>\n",
       "      <td>2500.0</td>\n",
       "      <td>2500.0</td>\n",
       "      <td>2500.0</td>\n",
       "      <td>60 months</td>\n",
       "      <td>15.27</td>\n",
       "      <td>59.83</td>\n",
       "      <td>C</td>\n",
       "      <td>C4</td>\n",
       "      <td>...</td>\n",
       "      <td>NaN</td>\n",
       "      <td>NaN</td>\n",
       "      <td>NaN</td>\n",
       "      <td>NaN</td>\n",
       "      <td>NaN</td>\n",
       "      <td>NaN</td>\n",
       "      <td>NaN</td>\n",
       "      <td>NaN</td>\n",
       "      <td>NaN</td>\n",
       "      <td>1</td>\n",
       "    </tr>\n",
       "    <tr>\n",
       "      <th>2</th>\n",
       "      <td>1077175</td>\n",
       "      <td>1313524</td>\n",
       "      <td>2400.0</td>\n",
       "      <td>2400.0</td>\n",
       "      <td>2400.0</td>\n",
       "      <td>36 months</td>\n",
       "      <td>15.96</td>\n",
       "      <td>84.33</td>\n",
       "      <td>C</td>\n",
       "      <td>C5</td>\n",
       "      <td>...</td>\n",
       "      <td>NaN</td>\n",
       "      <td>NaN</td>\n",
       "      <td>NaN</td>\n",
       "      <td>NaN</td>\n",
       "      <td>NaN</td>\n",
       "      <td>NaN</td>\n",
       "      <td>NaN</td>\n",
       "      <td>NaN</td>\n",
       "      <td>NaN</td>\n",
       "      <td>0</td>\n",
       "    </tr>\n",
       "    <tr>\n",
       "      <th>3</th>\n",
       "      <td>1076863</td>\n",
       "      <td>1277178</td>\n",
       "      <td>10000.0</td>\n",
       "      <td>10000.0</td>\n",
       "      <td>10000.0</td>\n",
       "      <td>36 months</td>\n",
       "      <td>13.49</td>\n",
       "      <td>339.31</td>\n",
       "      <td>C</td>\n",
       "      <td>C1</td>\n",
       "      <td>...</td>\n",
       "      <td>NaN</td>\n",
       "      <td>NaN</td>\n",
       "      <td>NaN</td>\n",
       "      <td>NaN</td>\n",
       "      <td>NaN</td>\n",
       "      <td>NaN</td>\n",
       "      <td>NaN</td>\n",
       "      <td>NaN</td>\n",
       "      <td>NaN</td>\n",
       "      <td>0</td>\n",
       "    </tr>\n",
       "    <tr>\n",
       "      <th>4</th>\n",
       "      <td>1075358</td>\n",
       "      <td>1311748</td>\n",
       "      <td>3000.0</td>\n",
       "      <td>3000.0</td>\n",
       "      <td>3000.0</td>\n",
       "      <td>60 months</td>\n",
       "      <td>12.69</td>\n",
       "      <td>67.79</td>\n",
       "      <td>B</td>\n",
       "      <td>B5</td>\n",
       "      <td>...</td>\n",
       "      <td>NaN</td>\n",
       "      <td>NaN</td>\n",
       "      <td>NaN</td>\n",
       "      <td>NaN</td>\n",
       "      <td>NaN</td>\n",
       "      <td>NaN</td>\n",
       "      <td>NaN</td>\n",
       "      <td>NaN</td>\n",
       "      <td>NaN</td>\n",
       "      <td>0</td>\n",
       "    </tr>\n",
       "  </tbody>\n",
       "</table>\n",
       "<p>5 rows × 73 columns</p>\n",
       "</div>"
      ],
      "text/plain": [
       "        id  member_id  loan_amnt  funded_amnt  funded_amnt_inv        term  \\\n",
       "0  1077501    1296599     5000.0       5000.0           4975.0   36 months   \n",
       "1  1077430    1314167     2500.0       2500.0           2500.0   60 months   \n",
       "2  1077175    1313524     2400.0       2400.0           2400.0   36 months   \n",
       "3  1076863    1277178    10000.0      10000.0          10000.0   36 months   \n",
       "4  1075358    1311748     3000.0       3000.0           3000.0   60 months   \n",
       "\n",
       "   int_rate  installment grade sub_grade     ...     il_util open_rv_12m  \\\n",
       "0     10.65       162.87     B        B2     ...         NaN         NaN   \n",
       "1     15.27        59.83     C        C4     ...         NaN         NaN   \n",
       "2     15.96        84.33     C        C5     ...         NaN         NaN   \n",
       "3     13.49       339.31     C        C1     ...         NaN         NaN   \n",
       "4     12.69        67.79     B        B5     ...         NaN         NaN   \n",
       "\n",
       "  open_rv_24m  max_bal_bc all_util total_rev_hi_lim inq_fi total_cu_tl  \\\n",
       "0         NaN         NaN      NaN              NaN    NaN         NaN   \n",
       "1         NaN         NaN      NaN              NaN    NaN         NaN   \n",
       "2         NaN         NaN      NaN              NaN    NaN         NaN   \n",
       "3         NaN         NaN      NaN              NaN    NaN         NaN   \n",
       "4         NaN         NaN      NaN              NaN    NaN         NaN   \n",
       "\n",
       "  inq_last_12m default_ind  \n",
       "0          NaN           0  \n",
       "1          NaN           1  \n",
       "2          NaN           0  \n",
       "3          NaN           0  \n",
       "4          NaN           0  \n",
       "\n",
       "[5 rows x 73 columns]"
      ]
     },
     "execution_count": 4,
     "metadata": {},
     "output_type": "execute_result"
    }
   ],
   "source": [
    "df.head()"
   ]
  },
  {
   "cell_type": "markdown",
   "metadata": {},
   "source": [
    "<b>Creating Copy of dataframe.</b>"
   ]
  },
  {
   "cell_type": "code",
   "execution_count": 5,
   "metadata": {
    "scrolled": true
   },
   "outputs": [
    {
     "data": {
      "text/html": [
       "<div>\n",
       "<style>\n",
       "    .dataframe thead tr:only-child th {\n",
       "        text-align: right;\n",
       "    }\n",
       "\n",
       "    .dataframe thead th {\n",
       "        text-align: left;\n",
       "    }\n",
       "\n",
       "    .dataframe tbody tr th {\n",
       "        vertical-align: top;\n",
       "    }\n",
       "</style>\n",
       "<table border=\"1\" class=\"dataframe\">\n",
       "  <thead>\n",
       "    <tr style=\"text-align: right;\">\n",
       "      <th></th>\n",
       "      <th>id</th>\n",
       "      <th>member_id</th>\n",
       "      <th>loan_amnt</th>\n",
       "      <th>funded_amnt</th>\n",
       "      <th>funded_amnt_inv</th>\n",
       "      <th>term</th>\n",
       "      <th>int_rate</th>\n",
       "      <th>installment</th>\n",
       "      <th>grade</th>\n",
       "      <th>sub_grade</th>\n",
       "      <th>emp_title</th>\n",
       "      <th>emp_length</th>\n",
       "      <th>home_ownership</th>\n",
       "      <th>annual_inc</th>\n",
       "      <th>verification_status</th>\n",
       "      <th>issue_d</th>\n",
       "      <th>pymnt_plan</th>\n",
       "      <th>desc</th>\n",
       "      <th>purpose</th>\n",
       "      <th>title</th>\n",
       "      <th>zip_code</th>\n",
       "      <th>addr_state</th>\n",
       "      <th>dti</th>\n",
       "      <th>delinq_2yrs</th>\n",
       "      <th>earliest_cr_line</th>\n",
       "      <th>inq_last_6mths</th>\n",
       "      <th>mths_since_last_delinq</th>\n",
       "      <th>mths_since_last_record</th>\n",
       "      <th>open_acc</th>\n",
       "      <th>pub_rec</th>\n",
       "      <th>revol_bal</th>\n",
       "      <th>revol_util</th>\n",
       "      <th>total_acc</th>\n",
       "      <th>initial_list_status</th>\n",
       "      <th>out_prncp</th>\n",
       "      <th>out_prncp_inv</th>\n",
       "      <th>total_pymnt</th>\n",
       "      <th>total_pymnt_inv</th>\n",
       "      <th>total_rec_prncp</th>\n",
       "      <th>total_rec_int</th>\n",
       "      <th>total_rec_late_fee</th>\n",
       "      <th>recoveries</th>\n",
       "      <th>collection_recovery_fee</th>\n",
       "      <th>last_pymnt_d</th>\n",
       "      <th>last_pymnt_amnt</th>\n",
       "      <th>next_pymnt_d</th>\n",
       "      <th>last_credit_pull_d</th>\n",
       "      <th>collections_12_mths_ex_med</th>\n",
       "      <th>mths_since_last_major_derog</th>\n",
       "      <th>policy_code</th>\n",
       "      <th>application_type</th>\n",
       "      <th>annual_inc_joint</th>\n",
       "      <th>dti_joint</th>\n",
       "      <th>verification_status_joint</th>\n",
       "      <th>acc_now_delinq</th>\n",
       "      <th>tot_coll_amt</th>\n",
       "      <th>tot_cur_bal</th>\n",
       "      <th>open_acc_6m</th>\n",
       "      <th>open_il_6m</th>\n",
       "      <th>open_il_12m</th>\n",
       "      <th>open_il_24m</th>\n",
       "      <th>mths_since_rcnt_il</th>\n",
       "      <th>total_bal_il</th>\n",
       "      <th>il_util</th>\n",
       "      <th>open_rv_12m</th>\n",
       "      <th>open_rv_24m</th>\n",
       "      <th>max_bal_bc</th>\n",
       "      <th>all_util</th>\n",
       "      <th>total_rev_hi_lim</th>\n",
       "      <th>inq_fi</th>\n",
       "      <th>total_cu_tl</th>\n",
       "      <th>inq_last_12m</th>\n",
       "      <th>default_ind</th>\n",
       "    </tr>\n",
       "  </thead>\n",
       "  <tbody>\n",
       "    <tr>\n",
       "      <th>0</th>\n",
       "      <td>1077501</td>\n",
       "      <td>1296599</td>\n",
       "      <td>5000.0</td>\n",
       "      <td>5000.0</td>\n",
       "      <td>4975.0</td>\n",
       "      <td>36 months</td>\n",
       "      <td>10.65</td>\n",
       "      <td>162.87</td>\n",
       "      <td>B</td>\n",
       "      <td>B2</td>\n",
       "      <td>NaN</td>\n",
       "      <td>10+ years</td>\n",
       "      <td>RENT</td>\n",
       "      <td>24000.0</td>\n",
       "      <td>Verified</td>\n",
       "      <td>Dec-2011</td>\n",
       "      <td>n</td>\n",
       "      <td>Borrower added on 12/22/11 &gt; I need to upgra...</td>\n",
       "      <td>credit_card</td>\n",
       "      <td>Computer</td>\n",
       "      <td>860xx</td>\n",
       "      <td>AZ</td>\n",
       "      <td>27.65</td>\n",
       "      <td>0.0</td>\n",
       "      <td>Jan-1985</td>\n",
       "      <td>1.0</td>\n",
       "      <td>NaN</td>\n",
       "      <td>NaN</td>\n",
       "      <td>3.0</td>\n",
       "      <td>0.0</td>\n",
       "      <td>13648.0</td>\n",
       "      <td>83.7</td>\n",
       "      <td>9.0</td>\n",
       "      <td>f</td>\n",
       "      <td>0.0</td>\n",
       "      <td>0.0</td>\n",
       "      <td>5861.071414</td>\n",
       "      <td>5831.78</td>\n",
       "      <td>5000.00</td>\n",
       "      <td>861.07</td>\n",
       "      <td>0.0</td>\n",
       "      <td>0.00</td>\n",
       "      <td>0.00</td>\n",
       "      <td>Jan-2015</td>\n",
       "      <td>171.62</td>\n",
       "      <td>NaN</td>\n",
       "      <td>Jan-2016</td>\n",
       "      <td>0.0</td>\n",
       "      <td>NaN</td>\n",
       "      <td>1.0</td>\n",
       "      <td>INDIVIDUAL</td>\n",
       "      <td>NaN</td>\n",
       "      <td>NaN</td>\n",
       "      <td>NaN</td>\n",
       "      <td>0.0</td>\n",
       "      <td>NaN</td>\n",
       "      <td>NaN</td>\n",
       "      <td>NaN</td>\n",
       "      <td>NaN</td>\n",
       "      <td>NaN</td>\n",
       "      <td>NaN</td>\n",
       "      <td>NaN</td>\n",
       "      <td>NaN</td>\n",
       "      <td>NaN</td>\n",
       "      <td>NaN</td>\n",
       "      <td>NaN</td>\n",
       "      <td>NaN</td>\n",
       "      <td>NaN</td>\n",
       "      <td>NaN</td>\n",
       "      <td>NaN</td>\n",
       "      <td>NaN</td>\n",
       "      <td>NaN</td>\n",
       "      <td>0</td>\n",
       "    </tr>\n",
       "    <tr>\n",
       "      <th>1</th>\n",
       "      <td>1077430</td>\n",
       "      <td>1314167</td>\n",
       "      <td>2500.0</td>\n",
       "      <td>2500.0</td>\n",
       "      <td>2500.0</td>\n",
       "      <td>60 months</td>\n",
       "      <td>15.27</td>\n",
       "      <td>59.83</td>\n",
       "      <td>C</td>\n",
       "      <td>C4</td>\n",
       "      <td>Ryder</td>\n",
       "      <td>&lt; 1 year</td>\n",
       "      <td>RENT</td>\n",
       "      <td>30000.0</td>\n",
       "      <td>Source Verified</td>\n",
       "      <td>Dec-2011</td>\n",
       "      <td>n</td>\n",
       "      <td>Borrower added on 12/22/11 &gt; I plan to use t...</td>\n",
       "      <td>car</td>\n",
       "      <td>bike</td>\n",
       "      <td>309xx</td>\n",
       "      <td>GA</td>\n",
       "      <td>1.00</td>\n",
       "      <td>0.0</td>\n",
       "      <td>Apr-1999</td>\n",
       "      <td>5.0</td>\n",
       "      <td>NaN</td>\n",
       "      <td>NaN</td>\n",
       "      <td>3.0</td>\n",
       "      <td>0.0</td>\n",
       "      <td>1687.0</td>\n",
       "      <td>9.4</td>\n",
       "      <td>4.0</td>\n",
       "      <td>f</td>\n",
       "      <td>0.0</td>\n",
       "      <td>0.0</td>\n",
       "      <td>1008.710000</td>\n",
       "      <td>1008.71</td>\n",
       "      <td>456.46</td>\n",
       "      <td>435.17</td>\n",
       "      <td>0.0</td>\n",
       "      <td>117.08</td>\n",
       "      <td>1.11</td>\n",
       "      <td>Apr-2013</td>\n",
       "      <td>119.66</td>\n",
       "      <td>NaN</td>\n",
       "      <td>Sep-2013</td>\n",
       "      <td>0.0</td>\n",
       "      <td>NaN</td>\n",
       "      <td>1.0</td>\n",
       "      <td>INDIVIDUAL</td>\n",
       "      <td>NaN</td>\n",
       "      <td>NaN</td>\n",
       "      <td>NaN</td>\n",
       "      <td>0.0</td>\n",
       "      <td>NaN</td>\n",
       "      <td>NaN</td>\n",
       "      <td>NaN</td>\n",
       "      <td>NaN</td>\n",
       "      <td>NaN</td>\n",
       "      <td>NaN</td>\n",
       "      <td>NaN</td>\n",
       "      <td>NaN</td>\n",
       "      <td>NaN</td>\n",
       "      <td>NaN</td>\n",
       "      <td>NaN</td>\n",
       "      <td>NaN</td>\n",
       "      <td>NaN</td>\n",
       "      <td>NaN</td>\n",
       "      <td>NaN</td>\n",
       "      <td>NaN</td>\n",
       "      <td>NaN</td>\n",
       "      <td>1</td>\n",
       "    </tr>\n",
       "  </tbody>\n",
       "</table>\n",
       "</div>"
      ],
      "text/plain": [
       "        id  member_id  loan_amnt  funded_amnt  funded_amnt_inv        term  \\\n",
       "0  1077501    1296599     5000.0       5000.0           4975.0   36 months   \n",
       "1  1077430    1314167     2500.0       2500.0           2500.0   60 months   \n",
       "\n",
       "   int_rate  installment grade sub_grade emp_title emp_length home_ownership  \\\n",
       "0     10.65       162.87     B        B2       NaN  10+ years           RENT   \n",
       "1     15.27        59.83     C        C4     Ryder   < 1 year           RENT   \n",
       "\n",
       "   annual_inc verification_status   issue_d pymnt_plan  \\\n",
       "0     24000.0            Verified  Dec-2011          n   \n",
       "1     30000.0     Source Verified  Dec-2011          n   \n",
       "\n",
       "                                                desc      purpose     title  \\\n",
       "0    Borrower added on 12/22/11 > I need to upgra...  credit_card  Computer   \n",
       "1    Borrower added on 12/22/11 > I plan to use t...          car      bike   \n",
       "\n",
       "  zip_code addr_state    dti  delinq_2yrs earliest_cr_line  inq_last_6mths  \\\n",
       "0    860xx         AZ  27.65          0.0         Jan-1985             1.0   \n",
       "1    309xx         GA   1.00          0.0         Apr-1999             5.0   \n",
       "\n",
       "   mths_since_last_delinq  mths_since_last_record  open_acc  pub_rec  \\\n",
       "0                     NaN                     NaN       3.0      0.0   \n",
       "1                     NaN                     NaN       3.0      0.0   \n",
       "\n",
       "   revol_bal  revol_util  total_acc initial_list_status  out_prncp  \\\n",
       "0    13648.0        83.7        9.0                   f        0.0   \n",
       "1     1687.0         9.4        4.0                   f        0.0   \n",
       "\n",
       "   out_prncp_inv  total_pymnt  total_pymnt_inv  total_rec_prncp  \\\n",
       "0            0.0  5861.071414          5831.78          5000.00   \n",
       "1            0.0  1008.710000          1008.71           456.46   \n",
       "\n",
       "   total_rec_int  total_rec_late_fee  recoveries  collection_recovery_fee  \\\n",
       "0         861.07                 0.0        0.00                     0.00   \n",
       "1         435.17                 0.0      117.08                     1.11   \n",
       "\n",
       "  last_pymnt_d  last_pymnt_amnt next_pymnt_d last_credit_pull_d  \\\n",
       "0     Jan-2015           171.62          NaN           Jan-2016   \n",
       "1     Apr-2013           119.66          NaN           Sep-2013   \n",
       "\n",
       "   collections_12_mths_ex_med  mths_since_last_major_derog  policy_code  \\\n",
       "0                         0.0                          NaN          1.0   \n",
       "1                         0.0                          NaN          1.0   \n",
       "\n",
       "  application_type  annual_inc_joint  dti_joint verification_status_joint  \\\n",
       "0       INDIVIDUAL               NaN        NaN                       NaN   \n",
       "1       INDIVIDUAL               NaN        NaN                       NaN   \n",
       "\n",
       "   acc_now_delinq  tot_coll_amt  tot_cur_bal  open_acc_6m  open_il_6m  \\\n",
       "0             0.0           NaN          NaN          NaN         NaN   \n",
       "1             0.0           NaN          NaN          NaN         NaN   \n",
       "\n",
       "   open_il_12m  open_il_24m  mths_since_rcnt_il  total_bal_il  il_util  \\\n",
       "0          NaN          NaN                 NaN           NaN      NaN   \n",
       "1          NaN          NaN                 NaN           NaN      NaN   \n",
       "\n",
       "   open_rv_12m  open_rv_24m  max_bal_bc  all_util  total_rev_hi_lim  inq_fi  \\\n",
       "0          NaN          NaN         NaN       NaN               NaN     NaN   \n",
       "1          NaN          NaN         NaN       NaN               NaN     NaN   \n",
       "\n",
       "   total_cu_tl  inq_last_12m  default_ind  \n",
       "0          NaN           NaN            0  \n",
       "1          NaN           NaN            1  "
      ]
     },
     "execution_count": 5,
     "metadata": {},
     "output_type": "execute_result"
    }
   ],
   "source": [
    "df_copy = pd.DataFrame.copy(df)\n",
    "pd.set_option('display.max_columns', 80)\n",
    "df_copy.head(n = 2)"
   ]
  },
  {
   "cell_type": "markdown",
   "metadata": {},
   "source": [
    "<h3>Before proceeding ahead , lets remove those variables which are not important for modeling or prediction.</h3>"
   ]
  },
  {
   "cell_type": "markdown",
   "metadata": {},
   "source": [
    "<h4>Variables \"id\" , \"member_id\" , \"zip_code\" , \"addr_state\" , \"last_pymnt_d\" , \"next_pymnt_d\" , \"last_credit_pull_d\",\"desc\" and \"policy_code\" should be removed as they are not important for modeling. We wont remove \"issue_d\" for now cause we will have to use it for spliting our data in train and test .</h4>"
   ]
  },
  {
   "cell_type": "code",
   "execution_count": 6,
   "metadata": {
    "collapsed": true
   },
   "outputs": [],
   "source": [
    "remove_list = [\"id\" , \"member_id\" , \"zip_code\" , \"addr_state\" , \"last_pymnt_d\" , \"next_pymnt_d\" , \"last_credit_pull_d\" \n",
    "               , \"desc\" ,\"policy_code\"]\n",
    "for i in remove_list:\n",
    "    del df_copy[i]"
   ]
  },
  {
   "cell_type": "markdown",
   "metadata": {},
   "source": [
    "<h4>The on going payment processes should not be considered as these values can mislead the machine to predict wrong values</h4>\n",
    "<b>As the problem statement states : </b>\n",
    "<h5>\"In this project you will have to put yourself in the shoes of a loan issuer and manage credit risk by using the past data and deciding whom to give the loan to in the future. The text files contain complete loan data for all loans issued by XYZ Corp. through 2007-2015. The data contains the indicator of default, payment information, credit history, etc.\n",
    "The data should be divided into train ( June 2007 - May 2015 ) and out-of-time test ( June 2015 - Dec 2015 ) data.\"</h5><br>\n",
    "<b>\"DECIDING WHOM TO GIVE LOAN IN FUTURE\"</b><br>\n",
    "<b>So , variables like<b> <br>\n",
    "<b>total_pymnt\t: Payments received to date for total amount funded</b><br>\n",
    "<b>total_pymnt_inv :\tPayments received to date for portion of total amount funded by investors</b><br>\n",
    "<b>total_rec_int :\tInterest received to date </b><br>\n",
    "<b>total_rec_late_fee :\tLate fees received to date </b><br>\n",
    "<b>total_rec_prncp\t: Principal received to date</b><br>\n",
    "<b>So whenever a customer comes for loan i wont ask him \"How much amount of loan have you cleared yet ?\" , how will the customer answer this question , when we have not yet decided whether to give loan or not to the customer.</b><br>\n",
    "<b>And even this values may mislead the model to predict wrong values cause we have to predict on data of customers who's final loan payment date hasnt even arrived or have taken the loan recently .</b>"
   ]
  },
  {
   "cell_type": "code",
   "execution_count": 7,
   "metadata": {
    "collapsed": true
   },
   "outputs": [],
   "source": [
    "remove_list = [\"total_pymnt\" , \"total_pymnt_inv\" , \"total_rec_int\" , \"total_rec_late_fee\" , \"total_rec_prncp\"]\n",
    "for i in remove_list:\n",
    "    del df_copy[i]"
   ]
  },
  {
   "cell_type": "code",
   "execution_count": 8,
   "metadata": {},
   "outputs": [
    {
     "data": {
      "text/plain": [
       "(855969, 59)"
      ]
     },
     "execution_count": 8,
     "metadata": {},
     "output_type": "execute_result"
    }
   ],
   "source": [
    "df_copy.shape"
   ]
  },
  {
   "cell_type": "markdown",
   "metadata": {},
   "source": [
    "<h3>Missing Values </h3> "
   ]
  },
  {
   "cell_type": "code",
   "execution_count": 9,
   "metadata": {},
   "outputs": [
    {
     "data": {
      "image/png": "[encoded data removed]",
      "text/plain": [
       "<matplotlib.figure.Figure at 0x23832794f98>"
      ]
     },
     "metadata": {},
     "output_type": "display_data"
    }
   ],
   "source": [
    "def nulls():\n",
    "    mvs = pd.DataFrame()\n",
    "    labels = []\n",
    "    percent = []\n",
    "    \n",
    "    for cols in df.columns.values:\n",
    "        if df[cols].isnull().sum() > 0:\n",
    "            p = (df[cols].isnull().sum()/df.shape[0])\n",
    "            labels.append(cols)\n",
    "            percent.append(p)\n",
    "    mvs[\"labels\"] = labels\n",
    "    mvs[\"percent\"] = percent\n",
    "    mvs = mvs.sort_values(\"percent\")\n",
    "    y_pos = np.arange(len(mvs))\n",
    "    plt.barh(y_pos , mvs[\"percent\"]  , align = \"center\" , alpha = 0.5)\n",
    "    plt.yticks(y_pos , mvs[\"labels\"])\n",
    "    plt.xlabel(\"Percent of missing values\")\n",
    "    plt.title(\"Missing value plot\") \n",
    "    plt.rcParams[\"figure.figsize\"] = (15,5)\n",
    "    plt.show()\n",
    "nulls()"
   ]
  },
  {
   "cell_type": "markdown",
   "metadata": {},
   "source": [
    "<b>1)As we can infer from the plot that many variables have missing values more than 40% of data.</b>\n",
    "<br>\n",
    "<b>2)In this case we can remove these variables which have missing values more than 40% .</b>\n",
    "<h4>Before removing these column we can use dti_joint to combine dti and dti_joint of applicants type joint and replace these calculated dti values of applicants type joint with dti value.</h4>\n",
    "<b>Cause Applicant type joint means 2 people together have issued loan .</b><br>\n",
    "<b>So the dept to income(dti) ratio of one individual from applicant type joint is stored in dti and the dti ratio of other individual is saved in dti_joint.</b><br>\n",
    "<b>If we remove dti_joint because of missing values then we might loose important information.</b><br>\n",
    "<b>Dept to income ratio is very important feature or variable in underwritting , to predict whether the loan issuer will default or not.</b><br>\n",
    "<h5>Formula to calculate Dept To Income Ratio :</h5>\n",
    "<b>Debt to income ratio = Monthly Expenses / Monthly Income </b><br>\n",
    "<br>\n",
    "<b> To get joint dti of Applicant joint we will have find Monthly expenses of both the individuals of applicant type joint.</b><br>\n",
    "<b>We can calculate Monthly Expense by multiplying  dept to income ratio into monthly income<b>\n",
    "\n",
    "<h4>Another reason to compute this value is because ,the applicant type individual is more than 90% and applicant type joint are only 10% .This is a case of imbalanced independent variable, which can lead the model to perform bad.</h4>\n",
    "<h3>Check the plot below.</h3>"
   ]
  },
  {
   "cell_type": "code",
   "execution_count": 10,
   "metadata": {},
   "outputs": [
    {
     "data": {
      "image/png": "[encoded data removed]",
      "text/plain": [
       "<matplotlib.figure.Figure at 0x238349a6ba8>"
      ]
     },
     "metadata": {},
     "output_type": "display_data"
    }
   ],
   "source": [
    "labels = 'individual', 'joint'\n",
    "sizes = [855527, 442 ]\n",
    "colors = ['lightskyblue', 'yellow']\n",
    "explode = (0.10, 0.5)  # explode 1st slice\n",
    " \n",
    "# Plot\n",
    "patches , text = plt.pie(sizes, explode=explode, labels=labels, colors=colors, shadow=True, startangle=140)\n",
    "plt.legend(patches, labels, loc=\"best\")\n",
    "plt.axis('equal')\n",
    "plt.show()"
   ]
  },
  {
   "cell_type": "code",
   "execution_count": 11,
   "metadata": {},
   "outputs": [
    {
     "data": {
      "text/plain": [
       "INDIVIDUAL    855527\n",
       "JOINT            442\n",
       "Name: application_type, dtype: int64"
      ]
     },
     "execution_count": 11,
     "metadata": {},
     "output_type": "execute_result"
    }
   ],
   "source": [
    "df[\"application_type\"].value_counts()"
   ]
  },
  {
   "cell_type": "markdown",
   "metadata": {},
   "source": [
    "<b>There are only 442 joint applicants out of 855969 applicants ,which is very less.</b><br>\n",
    "<b>Therefore creating new dti values for applicant type joint is a better option.</b><br>\n",
    "<b>Same we can do with annual income and annual income joint.</b><br>\n",
    "\n",
    "<b>So now lets create a functions to replace the dti ratio and annual income of joint applicant's.<b>"
   ]
  },
  {
   "cell_type": "code",
   "execution_count": 12,
   "metadata": {
    "collapsed": true
   },
   "outputs": [],
   "source": [
    "def newDti(df):\n",
    "    monthly_inc = (df[\"annual_inc\"][df[\"dti_joint\"].isnull() == False]/12)\n",
    "    monthly_inc_joint = (df[\"annual_inc_joint\"][df[\"dti_joint\"].isnull() == False]/12)\n",
    " \n",
    "    dti_ = (df[\"dti\"][df[\"dti_joint\"].isnull() == False])\n",
    "    dti_j = (df[\"dti_joint\"][df[\"dti_joint\"].isnull() == False])\n",
    "    \n",
    "    monthly_expenses = dti_*monthly_inc\n",
    "    monthly_expenses_joint = dti_j*monthly_inc_joint\n",
    "    \n",
    "    numerator = monthly_expenses + monthly_expenses_joint\n",
    "    denominator = monthly_inc + monthly_inc_joint    \n",
    "    \n",
    "    new_dti = numerator/denominator\n",
    "    \n",
    "    ind = df[\"dti\"][df[\"dti_joint\"].isnull() == False].index\n",
    "    \n",
    "    df[\"dti\"][ind] = new_dti\n",
    "\n",
    "def new_annual_inc(df):\n",
    "    \n",
    "    combined_inc = df[\"annual_inc\"][df[\"annual_inc_joint\"].isnull() == False] + df[\"annual_inc_joint\"][df[\"annual_inc_joint\"].isnull() ==  False]\n",
    "    ind = df[\"annual_inc\"][df[\"annual_inc_joint\"].isnull() == False].index\n",
    "    df[\"annual_inc\"][ind] = combined_inc\n"
   ]
  },
  {
   "cell_type": "code",
   "execution_count": 13,
   "metadata": {
    "collapsed": true
   },
   "outputs": [],
   "source": [
    "newDti(df_copy)"
   ]
  },
  {
   "cell_type": "code",
   "execution_count": 14,
   "metadata": {
    "collapsed": true
   },
   "outputs": [],
   "source": [
    "new_annual_inc(df_copy)"
   ]
  },
  {
   "cell_type": "markdown",
   "metadata": {},
   "source": [
    "<h3>Removing variables which have missing values more than 40%.</h3>"
   ]
  },
  {
   "cell_type": "code",
   "execution_count": 15,
   "metadata": {
    "collapsed": true
   },
   "outputs": [],
   "source": [
    "def remove_variables_missing_values_more_than_40_percent(df):\n",
    "    for var in df.columns.values:\n",
    "        if (df[var].isnull().sum()/df.shape[0]) >= 0.4:\n",
    "            del df[var]\n",
    "            \n",
    "remove_variables_missing_values_more_than_40_percent(df_copy)"
   ]
  },
  {
   "cell_type": "code",
   "execution_count": 16,
   "metadata": {},
   "outputs": [
    {
     "data": {
      "text/plain": [
       "(855969, 39)"
      ]
     },
     "execution_count": 16,
     "metadata": {},
     "output_type": "execute_result"
    }
   ],
   "source": [
    "df_copy.shape"
   ]
  },
  {
   "cell_type": "markdown",
   "metadata": {},
   "source": [
    "<h3>Below are the variables which are important according to the problem statement.</h3>"
   ]
  },
  {
   "cell_type": "code",
   "execution_count": 17,
   "metadata": {
    "collapsed": true
   },
   "outputs": [],
   "source": [
    "final_var= [\n",
    "\"annual_inc\",\"delinq_2yrs\",\"dti\",\"emp_length\",\"funded_amnt\",\"grade\",\"home_ownership\",\"initial_list_status\",\n",
    "\"installment\",\"int_rate\",\"loan_amnt\",\"open_acc\",\"inq_last_6mths\",\"pub_rec\",\"purpose\",\"revol_bal\",\"term\",\n",
    "\"verification_status\",\"tot_cur_bal\",\"issue_d\",\"recoveries\",\"collections_12_mths_ex_med\",\"default_ind\"\n",
    "]\n",
    "def kep_col(data,var):\n",
    "    for col in data.columns.values:\n",
    "        if not col in var:\n",
    "            del data[col]\n",
    "\n",
    "kep_col(df_copy , final_var)"
   ]
  },
  {
   "cell_type": "code",
   "execution_count": 18,
   "metadata": {},
   "outputs": [
    {
     "data": {
      "text/plain": [
       "(855969, 23)"
      ]
     },
     "execution_count": 18,
     "metadata": {},
     "output_type": "execute_result"
    }
   ],
   "source": [
    "df_copy.shape"
   ]
  },
  {
   "cell_type": "code",
   "execution_count": 19,
   "metadata": {},
   "outputs": [
    {
     "data": {
      "text/plain": [
       "loan_amnt                         0\n",
       "funded_amnt                       0\n",
       "term                              0\n",
       "int_rate                          0\n",
       "installment                       0\n",
       "grade                             0\n",
       "emp_length                        0\n",
       "home_ownership                    0\n",
       "annual_inc                        0\n",
       "verification_status               0\n",
       "issue_d                           0\n",
       "purpose                           0\n",
       "dti                               0\n",
       "delinq_2yrs                       0\n",
       "inq_last_6mths                    0\n",
       "open_acc                          0\n",
       "pub_rec                           0\n",
       "revol_bal                         0\n",
       "initial_list_status               0\n",
       "recoveries                        0\n",
       "collections_12_mths_ex_med       56\n",
       "tot_cur_bal                   67313\n",
       "default_ind                       0\n",
       "dtype: int64"
      ]
     },
     "execution_count": 19,
     "metadata": {},
     "output_type": "execute_result"
    }
   ],
   "source": [
    "df_copy.isnull().sum()"
   ]
  },
  {
   "cell_type": "markdown",
   "metadata": {},
   "source": [
    "<h3>Treating missing values</h3>"
   ]
  },
  {
   "cell_type": "code",
   "execution_count": 20,
   "metadata": {},
   "outputs": [
    {
     "name": "stdout",
     "output_type": "stream",
     "text": [
      "mode :  0.0\n",
      "mean :  139766.24752870706\n",
      "quantile 0.05 :  9174.75 quantile 0.25 :  29870.0 quantile 0.50 :  81008.5 quantile 0.75 :  208703.25 quantile 0.95 :  425148.25\n"
     ]
    }
   ],
   "source": [
    "print(\"mode : \",df_copy[\"tot_cur_bal\"].mode()[0])\n",
    "print(\"mean : \",np.mean(df_copy[\"tot_cur_bal\"]))\n",
    "print(\"quantile 0.05 : \",df_copy[\"tot_cur_bal\"].quantile(0.05),\"quantile 0.25 : \",df_copy[\"tot_cur_bal\"].quantile(0.25) ,\n",
    "      \"quantile 0.50 : \", df_copy[\"tot_cur_bal\"].quantile(0.50) , \n",
    "      \"quantile 0.75 : \",df_copy[\"tot_cur_bal\"].quantile(0.75) ,\"quantile 0.95 : \", df_copy[\"tot_cur_bal\"].quantile(0.95))"
   ]
  },
  {
   "cell_type": "code",
   "execution_count": 21,
   "metadata": {
    "collapsed": true
   },
   "outputs": [],
   "source": [
    "df_copy['tot_cur_bal'].fillna(df_copy['tot_cur_bal'].mean(),inplace=True) "
   ]
  },
  {
   "cell_type": "code",
   "execution_count": 22,
   "metadata": {
    "collapsed": true
   },
   "outputs": [],
   "source": [
    "df_copy['collections_12_mths_ex_med'].fillna(df_copy['collections_12_mths_ex_med'].mean(),inplace=True) "
   ]
  },
  {
   "cell_type": "markdown",
   "metadata": {},
   "source": [
    "<h3>Correlation Matrix</h3>"
   ]
  },
  {
   "cell_type": "code",
   "execution_count": 23,
   "metadata": {},
   "outputs": [
    {
     "data": {
      "image/png": "[encoded data removed]",
      "text/plain": [
       "<matplotlib.figure.Figure at 0x2381ea71908>"
      ]
     },
     "metadata": {},
     "output_type": "display_data"
    }
   ],
   "source": [
    "correlation_matrix = df_copy.corr()\n",
    "a4_dimens = (15.7 , 10.27)\n",
    "fig , ax = plt.subplots(figsize = a4_dimens)\n",
    "sns.heatmap(correlation_matrix, cmap=\"Blues\", vmax=0.8, center=0,\n",
    "            square=True, linewidths=.5, cbar_kws={\"shrink\": .5} , \n",
    "            annot=True,\n",
    "            xticklabels=correlation_matrix.columns.values ,\n",
    "            yticklabels=correlation_matrix.columns.values,\n",
    "            )\n",
    "\n",
    "plt.xticks(rotation = 90)\n",
    "plt.yticks(rotation = 360)\n",
    "plt.show()"
   ]
  },
  {
   "cell_type": "markdown",
   "metadata": {},
   "source": [
    "<h4>From the below plot we infer that \"loan_amnt\",\"funded_amnt\"and\"installment\" are highly correlated to each other and can lead the model to perform poor. So in this case we can remove funded_amnt and installment , both are derieved from loan_amnt . </h4>"
   ]
  },
  {
   "cell_type": "code",
   "execution_count": 24,
   "metadata": {
    "collapsed": true
   },
   "outputs": [],
   "source": [
    "del df_copy[\"installment\" ]\n",
    "del df_copy[\"funded_amnt\"]"
   ]
  },
  {
   "cell_type": "code",
   "execution_count": 25,
   "metadata": {},
   "outputs": [
    {
     "data": {
      "text/plain": [
       "(855969, 21)"
      ]
     },
     "execution_count": 25,
     "metadata": {},
     "output_type": "execute_result"
    }
   ],
   "source": [
    "df_copy.shape"
   ]
  },
  {
   "cell_type": "code",
   "execution_count": 26,
   "metadata": {
    "scrolled": true
   },
   "outputs": [
    {
     "data": {
      "text/html": [
       "<div>\n",
       "<style>\n",
       "    .dataframe thead tr:only-child th {\n",
       "        text-align: right;\n",
       "    }\n",
       "\n",
       "    .dataframe thead th {\n",
       "        text-align: left;\n",
       "    }\n",
       "\n",
       "    .dataframe tbody tr th {\n",
       "        vertical-align: top;\n",
       "    }\n",
       "</style>\n",
       "<table border=\"1\" class=\"dataframe\">\n",
       "  <thead>\n",
       "    <tr style=\"text-align: right;\">\n",
       "      <th></th>\n",
       "      <th>loan_amnt</th>\n",
       "      <th>int_rate</th>\n",
       "      <th>annual_inc</th>\n",
       "      <th>dti</th>\n",
       "      <th>delinq_2yrs</th>\n",
       "      <th>inq_last_6mths</th>\n",
       "      <th>open_acc</th>\n",
       "      <th>pub_rec</th>\n",
       "      <th>revol_bal</th>\n",
       "      <th>recoveries</th>\n",
       "      <th>collections_12_mths_ex_med</th>\n",
       "      <th>tot_cur_bal</th>\n",
       "      <th>default_ind</th>\n",
       "    </tr>\n",
       "  </thead>\n",
       "  <tbody>\n",
       "    <tr>\n",
       "      <th>count</th>\n",
       "      <td>855969.000000</td>\n",
       "      <td>855969.000000</td>\n",
       "      <td>8.559690e+05</td>\n",
       "      <td>855969.000000</td>\n",
       "      <td>855969.000000</td>\n",
       "      <td>855969.000000</td>\n",
       "      <td>855969.000000</td>\n",
       "      <td>855969.000000</td>\n",
       "      <td>8.559690e+05</td>\n",
       "      <td>855969.000000</td>\n",
       "      <td>855969.000000</td>\n",
       "      <td>8.559690e+05</td>\n",
       "      <td>855969.000000</td>\n",
       "    </tr>\n",
       "    <tr>\n",
       "      <th>mean</th>\n",
       "      <td>14745.571335</td>\n",
       "      <td>13.192320</td>\n",
       "      <td>7.512665e+04</td>\n",
       "      <td>18.092736</td>\n",
       "      <td>0.311621</td>\n",
       "      <td>0.680915</td>\n",
       "      <td>11.542447</td>\n",
       "      <td>0.194537</td>\n",
       "      <td>1.691053e+04</td>\n",
       "      <td>47.089499</td>\n",
       "      <td>0.014230</td>\n",
       "      <td>1.397662e+05</td>\n",
       "      <td>0.054286</td>\n",
       "    </tr>\n",
       "    <tr>\n",
       "      <th>std</th>\n",
       "      <td>8425.340005</td>\n",
       "      <td>4.368365</td>\n",
       "      <td>6.431335e+04</td>\n",
       "      <td>8.285908</td>\n",
       "      <td>0.857189</td>\n",
       "      <td>0.964033</td>\n",
       "      <td>5.308094</td>\n",
       "      <td>0.581585</td>\n",
       "      <td>2.222374e+04</td>\n",
       "      <td>413.136043</td>\n",
       "      <td>0.133707</td>\n",
       "      <td>1.477618e+05</td>\n",
       "      <td>0.226581</td>\n",
       "    </tr>\n",
       "    <tr>\n",
       "      <th>min</th>\n",
       "      <td>500.000000</td>\n",
       "      <td>5.320000</td>\n",
       "      <td>3.000000e+03</td>\n",
       "      <td>0.000000</td>\n",
       "      <td>0.000000</td>\n",
       "      <td>0.000000</td>\n",
       "      <td>0.000000</td>\n",
       "      <td>0.000000</td>\n",
       "      <td>0.000000e+00</td>\n",
       "      <td>0.000000</td>\n",
       "      <td>0.000000</td>\n",
       "      <td>0.000000e+00</td>\n",
       "      <td>0.000000</td>\n",
       "    </tr>\n",
       "    <tr>\n",
       "      <th>25%</th>\n",
       "      <td>8000.000000</td>\n",
       "      <td>9.990000</td>\n",
       "      <td>4.500000e+04</td>\n",
       "      <td>11.880000</td>\n",
       "      <td>0.000000</td>\n",
       "      <td>0.000000</td>\n",
       "      <td>8.000000</td>\n",
       "      <td>0.000000</td>\n",
       "      <td>6.469000e+03</td>\n",
       "      <td>0.000000</td>\n",
       "      <td>0.000000</td>\n",
       "      <td>3.225000e+04</td>\n",
       "      <td>0.000000</td>\n",
       "    </tr>\n",
       "    <tr>\n",
       "      <th>50%</th>\n",
       "      <td>13000.000000</td>\n",
       "      <td>12.990000</td>\n",
       "      <td>6.500000e+04</td>\n",
       "      <td>17.610000</td>\n",
       "      <td>0.000000</td>\n",
       "      <td>0.000000</td>\n",
       "      <td>11.000000</td>\n",
       "      <td>0.000000</td>\n",
       "      <td>1.190300e+04</td>\n",
       "      <td>0.000000</td>\n",
       "      <td>0.000000</td>\n",
       "      <td>1.005610e+05</td>\n",
       "      <td>0.000000</td>\n",
       "    </tr>\n",
       "    <tr>\n",
       "      <th>75%</th>\n",
       "      <td>20000.000000</td>\n",
       "      <td>15.990000</td>\n",
       "      <td>9.000000e+04</td>\n",
       "      <td>23.890000</td>\n",
       "      <td>0.000000</td>\n",
       "      <td>1.000000</td>\n",
       "      <td>14.000000</td>\n",
       "      <td>0.000000</td>\n",
       "      <td>2.085700e+04</td>\n",
       "      <td>0.000000</td>\n",
       "      <td>0.000000</td>\n",
       "      <td>1.963730e+05</td>\n",
       "      <td>0.000000</td>\n",
       "    </tr>\n",
       "    <tr>\n",
       "      <th>max</th>\n",
       "      <td>35000.000000</td>\n",
       "      <td>28.990000</td>\n",
       "      <td>9.500000e+06</td>\n",
       "      <td>60.403669</td>\n",
       "      <td>39.000000</td>\n",
       "      <td>8.000000</td>\n",
       "      <td>90.000000</td>\n",
       "      <td>86.000000</td>\n",
       "      <td>2.904836e+06</td>\n",
       "      <td>33520.270000</td>\n",
       "      <td>20.000000</td>\n",
       "      <td>8.000078e+06</td>\n",
       "      <td>1.000000</td>\n",
       "    </tr>\n",
       "  </tbody>\n",
       "</table>\n",
       "</div>"
      ],
      "text/plain": [
       "           loan_amnt       int_rate    annual_inc            dti  \\\n",
       "count  855969.000000  855969.000000  8.559690e+05  855969.000000   \n",
       "mean    14745.571335      13.192320  7.512665e+04      18.092736   \n",
       "std      8425.340005       4.368365  6.431335e+04       8.285908   \n",
       "min       500.000000       5.320000  3.000000e+03       0.000000   \n",
       "25%      8000.000000       9.990000  4.500000e+04      11.880000   \n",
       "50%     13000.000000      12.990000  6.500000e+04      17.610000   \n",
       "75%     20000.000000      15.990000  9.000000e+04      23.890000   \n",
       "max     35000.000000      28.990000  9.500000e+06      60.403669   \n",
       "\n",
       "         delinq_2yrs  inq_last_6mths       open_acc        pub_rec  \\\n",
       "count  855969.000000   855969.000000  855969.000000  855969.000000   \n",
       "mean        0.311621        0.680915      11.542447       0.194537   \n",
       "std         0.857189        0.964033       5.308094       0.581585   \n",
       "min         0.000000        0.000000       0.000000       0.000000   \n",
       "25%         0.000000        0.000000       8.000000       0.000000   \n",
       "50%         0.000000        0.000000      11.000000       0.000000   \n",
       "75%         0.000000        1.000000      14.000000       0.000000   \n",
       "max        39.000000        8.000000      90.000000      86.000000   \n",
       "\n",
       "          revol_bal     recoveries  collections_12_mths_ex_med   tot_cur_bal  \\\n",
       "count  8.559690e+05  855969.000000               855969.000000  8.559690e+05   \n",
       "mean   1.691053e+04      47.089499                    0.014230  1.397662e+05   \n",
       "std    2.222374e+04     413.136043                    0.133707  1.477618e+05   \n",
       "min    0.000000e+00       0.000000                    0.000000  0.000000e+00   \n",
       "25%    6.469000e+03       0.000000                    0.000000  3.225000e+04   \n",
       "50%    1.190300e+04       0.000000                    0.000000  1.005610e+05   \n",
       "75%    2.085700e+04       0.000000                    0.000000  1.963730e+05   \n",
       "max    2.904836e+06   33520.270000                   20.000000  8.000078e+06   \n",
       "\n",
       "         default_ind  \n",
       "count  855969.000000  \n",
       "mean        0.054286  \n",
       "std         0.226581  \n",
       "min         0.000000  \n",
       "25%         0.000000  \n",
       "50%         0.000000  \n",
       "75%         0.000000  \n",
       "max         1.000000  "
      ]
     },
     "execution_count": 26,
     "metadata": {},
     "output_type": "execute_result"
    }
   ],
   "source": [
    "df_copy.describe()"
   ]
  },
  {
   "cell_type": "code",
   "execution_count": 28,
   "metadata": {},
   "outputs": [
    {
     "name": "stdout",
     "output_type": "stream",
     "text": [
      "delinq_2yrs\n",
      "value :  0.0 appearance :  692685  : percent :  80.9240755214266 \n",
      "\n",
      "pub_rec\n",
      "value :  0.0 appearance :  725455  : percent :  84.75248519514142 \n",
      "\n",
      "recoveries\n",
      "value :  0.0 appearance :  831782  : percent :  97.17431355574793 \n",
      "\n",
      "collections_12_mths_ex_med\n",
      "value :  0.0 appearance :  844768  : percent :  98.69142457261887 \n",
      "\n"
     ]
    }
   ],
   "source": [
    "def biased_IF(data):\n",
    "    for x in data:\n",
    "        val = data[x].unique()[0]\n",
    "        s = data[x][data[x] == val].size\n",
    "        p = (s/data.shape[0])*100\n",
    "        \n",
    "        if p >= 50 and (data[x].dtype == \"int\" or data[x].dtype == \"float64\") :\n",
    "            \n",
    "            print(x)\n",
    "            print(\"value : \",val,\"appearance : \",s , \" : percent : \",p , \"\\n\")\n",
    "            \n",
    "biased_IF(df_copy)"
   ]
  },
  {
   "cell_type": "markdown",
   "metadata": {},
   "source": [
    "<h4>From the above output we see that varibles recoveries  and collection_12_mths_ex_med have more than 90% biased values . This lead the model to perform poor . in this case we can remove these 2 variables .</h4>\n",
    "<h4>But we can still use pub_rec and delinq_2yrs , we can convert these variables into categorical data .</h4>"
   ]
  },
  {
   "cell_type": "code",
   "execution_count": 29,
   "metadata": {},
   "outputs": [
    {
     "data": {
      "text/plain": [
       "(855969, 19)"
      ]
     },
     "execution_count": 29,
     "metadata": {},
     "output_type": "execute_result"
    }
   ],
   "source": [
    "df_copy = df_copy.drop(['recoveries','collections_12_mths_ex_med'],axis=1) \n",
    "df_copy.shape"
   ]
  },
  {
   "cell_type": "code",
   "execution_count": 30,
   "metadata": {},
   "outputs": [
    {
     "data": {
      "text/plain": [
       "array([0, 1], dtype=int64)"
      ]
     },
     "execution_count": 30,
     "metadata": {},
     "output_type": "execute_result"
    }
   ],
   "source": [
    "df_copy[\"delinq_2yrs\"] = df_copy[\"delinq_2yrs\"].astype(int)\n",
    "df_copy[\"delinq_2yrs\"][df_copy[\"delinq_2yrs\"] > 0 ] = 1\n",
    "df_copy[\"delinq_2yrs\"].unique()"
   ]
  },
  {
   "cell_type": "code",
   "execution_count": 31,
   "metadata": {},
   "outputs": [
    {
     "data": {
      "text/plain": [
       "array([0, 1], dtype=int64)"
      ]
     },
     "execution_count": 31,
     "metadata": {},
     "output_type": "execute_result"
    }
   ],
   "source": [
    "df_copy[\"pub_rec\"] = df_copy[\"pub_rec\"].astype(int)\n",
    "df_copy[\"pub_rec\"][df_copy[\"pub_rec\"] > 0 ] = 1\n",
    "df_copy[\"pub_rec\"].unique()"
   ]
  },
  {
   "cell_type": "markdown",
   "metadata": {},
   "source": [
    "<h3>Binning</h3>"
   ]
  },
  {
   "cell_type": "code",
   "execution_count": 32,
   "metadata": {},
   "outputs": [
    {
     "name": "stdout",
     "output_type": "stream",
     "text": [
      "min :  3000.0 max :  9500000.0\n",
      "mode :  60000.0\n",
      "mean :  75126.65079432826 median :  65000.0\n",
      "quantile 0.25 :  45000.0  quantile 0.50 :  65000.0  quantile 0.75 :  90000.0  quantile 0.95 :  150000.0\n"
     ]
    }
   ],
   "source": [
    "print(\"min : \" ,min(df_copy[\"annual_inc\"]) ,\"max : \", max(df_copy[\"annual_inc\"]))\n",
    "print(\"mode : \" ,df_copy[\"annual_inc\"].mode()[0])\n",
    "print(\"mean : \",np.mean(df_copy[\"annual_inc\"]) ,\"median : \",np.median(df[\"annual_inc\"]))\n",
    "print(\"quantile 0.25 : \", df_copy[\"annual_inc\"].quantile(0.25) ,\" quantile 0.50 : \", df_copy[\"annual_inc\"].quantile(0.50) , \n",
    "     \" quantile 0.75 : \", df_copy[\"annual_inc\"].quantile(0.75) ,\" quantile 0.95 : \", df_copy[\"annual_inc\"].quantile(0.95))"
   ]
  },
  {
   "cell_type": "code",
   "execution_count": 33,
   "metadata": {},
   "outputs": [
    {
     "name": "stdout",
     "output_type": "stream",
     "text": [
      "3    250347\n",
      "5    218384\n",
      "2    163800\n",
      "4    119893\n",
      "6     61519\n",
      "1     42026\n",
      "Name: annual_inc, dtype: int64\n"
     ]
    }
   ],
   "source": [
    "cat_an = pd.cut(df_copy[\"annual_inc\"] , bins = [0,30000,50000,60000,90000,150000,9600000] , \n",
    "                labels = [6 , 5 , 4 , 3 , 2 , 1])\n",
    "print(cat_an.value_counts())"
   ]
  },
  {
   "cell_type": "code",
   "execution_count": 34,
   "metadata": {},
   "outputs": [
    {
     "data": {
      "image/png": "[encoded data removed]",
      "text/plain": [
       "<matplotlib.figure.Figure at 0x2381ea09da0>"
      ]
     },
     "metadata": {},
     "output_type": "display_data"
    }
   ],
   "source": [
    "c = Counter(cat_an)\n",
    "labels = []\n",
    "for i in np.arange(0 , 6):\n",
    "        labels.append(c.most_common()[i][0])\n",
    "\n",
    "sns.countplot(y = cat_an , order=labels )\n",
    "plt.show()"
   ]
  },
  {
   "cell_type": "code",
   "execution_count": 35,
   "metadata": {},
   "outputs": [
    {
     "name": "stdout",
     "output_type": "stream",
     "text": [
      "0    6\n",
      "1    6\n",
      "2    6\n",
      "3    5\n",
      "4    3\n",
      "Name: annual_inc, dtype: int32\n"
     ]
    }
   ],
   "source": [
    "df_copy[\"annual_inc\"] = cat_an\n",
    "df_copy[\"annual_inc\"] = df_copy[\"annual_inc\"].astype(int)\n",
    "print(df_copy[\"annual_inc\"].head())"
   ]
  },
  {
   "cell_type": "code",
   "execution_count": 36,
   "metadata": {},
   "outputs": [
    {
     "name": "stdout",
     "output_type": "stream",
     "text": [
      "min :  0.0 max :  2904836.0\n",
      "mode :  0.0\n",
      "mean :  16910.52699221584 median :  11903.0\n",
      "quantile 0.25 :  6469.0  quantile 0.50 :  11903.0  quantile 0.75 :  20857.0  quantile 0.95 :  43833.0\n"
     ]
    }
   ],
   "source": [
    "print(\"min : \",min(df_copy[\"revol_bal\"]) ,\"max : \", max(df_copy[\"revol_bal\"]))\n",
    "print(\"mode : \",df_copy[\"revol_bal\"].mode()[0])\n",
    "print(\"mean : \",np.mean(df_copy[\"revol_bal\"]) ,\"median : \",np.median(df[\"revol_bal\"]))\n",
    "print(\"quantile 0.25 : \",df_copy[\"revol_bal\"].quantile(0.25) ,\" quantile 0.50 : \", df_copy[\"revol_bal\"].quantile(0.50) , \n",
    "      \" quantile 0.75 : \",df_copy[\"revol_bal\"].quantile(0.75) ,\" quantile 0.95 : \", df_copy[\"revol_bal\"].quantile(0.95))"
   ]
  },
  {
   "cell_type": "code",
   "execution_count": 37,
   "metadata": {},
   "outputs": [
    {
     "name": "stdout",
     "output_type": "stream",
     "text": [
      "3    268292\n",
      "2    210104\n",
      "4    173618\n",
      "1    149285\n",
      "5     54670\n",
      "Name: revol_bal, dtype: int64\n"
     ]
    }
   ],
   "source": [
    "cat_revol = pd.cut(df_copy[\"revol_bal\"] , bins = [-1,5000,10000,20000,40000,3000000 ] , \n",
    "                   labels = [1,2,3,4,5])\n",
    "print(cat_revol.value_counts())"
   ]
  },
  {
   "cell_type": "code",
   "execution_count": 38,
   "metadata": {},
   "outputs": [
    {
     "data": {
      "image/png": "[encoded data removed]",
      "text/plain": [
       "<matplotlib.figure.Figure at 0x2381c817400>"
      ]
     },
     "metadata": {},
     "output_type": "display_data"
    }
   ],
   "source": [
    "c_revol = Counter(cat_revol)\n",
    "labels_revol = []\n",
    "for i in np.arange(0 , 5):\n",
    "        labels_revol.append(c_revol.most_common()[i][0])\n",
    "sns.countplot(y = cat_revol , order=labels_revol)\n",
    "plt.show()"
   ]
  },
  {
   "cell_type": "code",
   "execution_count": 39,
   "metadata": {},
   "outputs": [
    {
     "name": "stdout",
     "output_type": "stream",
     "text": [
      "0    3\n",
      "1    1\n",
      "2    1\n",
      "3    2\n",
      "4    4\n",
      "Name: revol_bal, dtype: int32\n"
     ]
    }
   ],
   "source": [
    "df_copy[\"revol_bal\"] = cat_revol\n",
    "df_copy[\"revol_bal\"] = df_copy[\"revol_bal\"].astype(int)\n",
    "print(df_copy[\"revol_bal\"].head())"
   ]
  },
  {
   "cell_type": "code",
   "execution_count": 40,
   "metadata": {},
   "outputs": [
    {
     "name": "stdout",
     "output_type": "stream",
     "text": [
      "min :  0.0 max :  8000078.0\n",
      "mode :  139766.247529\n",
      "mean :  139766.24752868796 median :  100561.0\n",
      "quantile 0.25 :  32250.0  quantile 0.50 :  100561.0  quantile 0.75 :  196373.0  quantile 0.95 :  414677.59999999986\n"
     ]
    }
   ],
   "source": [
    "print(\"min : \",min(df_copy[\"tot_cur_bal\"]) ,\"max : \", max(df_copy[\"tot_cur_bal\"]))\n",
    "print(\"mode : \",df_copy[\"tot_cur_bal\"].mode()[0])\n",
    "print(\"mean : \",np.mean(df_copy[\"tot_cur_bal\"]) ,\"median : \", np.median(df_copy[\"tot_cur_bal\"]))\n",
    "print(\"quantile 0.25 : \",df_copy[\"tot_cur_bal\"].quantile(0.25) ,\" quantile 0.50 : \", df_copy[\"tot_cur_bal\"].quantile(0.50) , \n",
    "      \" quantile 0.75 : \",df_copy[\"tot_cur_bal\"].quantile(0.75) ,\" quantile 0.95 : \", df_copy[\"tot_cur_bal\"].quantile(0.95))"
   ]
  },
  {
   "cell_type": "code",
   "execution_count": 41,
   "metadata": {},
   "outputs": [
    {
     "name": "stdout",
     "output_type": "stream",
     "text": [
      "3    189645\n",
      "2    160934\n",
      "6    152920\n",
      "5    146685\n",
      "4    112599\n",
      "1     47986\n",
      "7     45200\n",
      "Name: tot_cur_bal, dtype: int64\n"
     ]
    }
   ],
   "source": [
    "cat_tot_cur = pd.cut(df_copy[\"tot_cur_bal\"] , \n",
    "                     bins = [-1,10000,30000,60000,120000,200000,400000,9000000],\n",
    "                     labels = [7,6,5,4,3,2,1])\n",
    "print(cat_tot_cur.value_counts())"
   ]
  },
  {
   "cell_type": "code",
   "execution_count": 42,
   "metadata": {},
   "outputs": [
    {
     "data": {
      "image/png": "[encoded data removed]",
      "text/plain": [
       "<matplotlib.figure.Figure at 0x2381cfba438>"
      ]
     },
     "metadata": {},
     "output_type": "display_data"
    }
   ],
   "source": [
    "c_tot = Counter(cat_tot_cur)\n",
    "labels_tot = []\n",
    "for i in np.arange(0 , 7):\n",
    "        labels_tot.append(c_tot.most_common()[i][0])\n",
    "sns.countplot(y = cat_tot_cur , order=labels_tot)\n",
    "plt.show()"
   ]
  },
  {
   "cell_type": "code",
   "execution_count": 43,
   "metadata": {},
   "outputs": [
    {
     "name": "stdout",
     "output_type": "stream",
     "text": [
      "0    3\n",
      "1    3\n",
      "2    3\n",
      "3    3\n",
      "4    3\n",
      "Name: tot_cur_bal, dtype: int32\n"
     ]
    }
   ],
   "source": [
    "df_copy[\"tot_cur_bal\"] = cat_tot_cur\n",
    "df_copy[\"tot_cur_bal\"] = df_copy[\"tot_cur_bal\"].astype(int)\n",
    "print(df_copy[\"tot_cur_bal\"].head())"
   ]
  },
  {
   "cell_type": "code",
   "execution_count": 44,
   "metadata": {},
   "outputs": [
    {
     "data": {
      "text/plain": [
       "loan_amnt              float64\n",
       "term                    object\n",
       "int_rate               float64\n",
       "grade                   object\n",
       "emp_length              object\n",
       "home_ownership          object\n",
       "annual_inc               int32\n",
       "verification_status     object\n",
       "issue_d                 object\n",
       "purpose                 object\n",
       "dti                    float64\n",
       "delinq_2yrs              int32\n",
       "inq_last_6mths         float64\n",
       "open_acc               float64\n",
       "pub_rec                  int32\n",
       "revol_bal                int32\n",
       "initial_list_status     object\n",
       "tot_cur_bal              int32\n",
       "default_ind              int64\n",
       "dtype: object"
      ]
     },
     "execution_count": 44,
     "metadata": {},
     "output_type": "execute_result"
    }
   ],
   "source": [
    "df_copy.dtypes"
   ]
  },
  {
   "cell_type": "markdown",
   "metadata": {},
   "source": [
    "<h3>Outliers Treatment</h3>"
   ]
  },
  {
   "cell_type": "code",
   "execution_count": 45,
   "metadata": {
    "scrolled": true
   },
   "outputs": [
    {
     "data": {
      "image/png": "[encoded data removed]",
      "text/plain": [
       "<matplotlib.figure.Figure at 0x2381c92c470>"
      ]
     },
     "metadata": {},
     "output_type": "display_data"
    }
   ],
   "source": [
    "plt.figure(1)\n",
    "plt.subplot(141)\n",
    "sns.boxplot(df_copy[\"int_rate\"] , orient=\"v\" , color=\"r\")\n",
    "\n",
    "plt.figure(1)\n",
    "plt.subplot(142)\n",
    "sns.boxplot(df_copy[\"dti\"] , orient=\"v\" , color=\"y\")\n",
    "\n",
    "plt.figure(1)\n",
    "plt.subplot(143)\n",
    "sns.boxplot(df_copy[\"inq_last_6mths\"] , orient=\"v\" , color=\"g\")\n",
    "\n",
    "plt.figure(1)\n",
    "plt.subplot(144)\n",
    "sns.boxplot(df_copy[\"open_acc\"] , orient=\"v\" , color=\"b\")\n",
    "\n",
    "plt.show()"
   ]
  },
  {
   "cell_type": "markdown",
   "metadata": {},
   "source": [
    "<h4>We will replace the outliers with upper whishker.</h4>"
   ]
  },
  {
   "cell_type": "code",
   "execution_count": 46,
   "metadata": {
    "collapsed": true
   },
   "outputs": [],
   "source": [
    "outlier_var_list = [\"int_rate\" , \"dti\" , \"inq_last_6mths\" , \"open_acc\"]\n",
    "for var in outlier_var_list:\n",
    "    B= plt.boxplot(df_copy[var])\n",
    "    value = [item.get_ydata()[1] for item in B['whiskers']]\n",
    "    upper_whisker = value[1]\n",
    "    df_copy[var][df_copy[var] > upper_whisker] = upper_whisker"
   ]
  },
  {
   "cell_type": "code",
   "execution_count": 47,
   "metadata": {},
   "outputs": [
    {
     "data": {
      "image/png": "[encoded data removed]",
      "text/plain": [
       "<matplotlib.figure.Figure at 0x2381c93aeb8>"
      ]
     },
     "metadata": {},
     "output_type": "display_data"
    }
   ],
   "source": [
    "plt.figure(1)\n",
    "plt.subplot(141)\n",
    "sns.boxplot(df_copy[\"int_rate\"] , orient=\"v\" , color=\"r\")\n",
    "\n",
    "plt.figure(1)\n",
    "plt.subplot(142)\n",
    "sns.boxplot(df_copy[\"dti\"] , orient=\"v\" , color=\"y\")\n",
    "\n",
    "plt.figure(1)\n",
    "plt.subplot(143)\n",
    "sns.boxplot(df_copy[\"inq_last_6mths\"] , orient=\"v\" , color=\"g\")\n",
    "\n",
    "plt.figure(1)\n",
    "plt.subplot(144)\n",
    "sns.boxplot(df_copy[\"open_acc\"] , orient=\"v\" , color=\"b\")\n",
    "\n",
    "plt.show()"
   ]
  },
  {
   "cell_type": "markdown",
   "metadata": {},
   "source": [
    "<h3>Label encoding.</h3>"
   ]
  },
  {
   "cell_type": "code",
   "execution_count": 48,
   "metadata": {
    "collapsed": true
   },
   "outputs": [],
   "source": [
    "df_copy[\"emp_length\"][df_copy[\"emp_length\"] == \"n/a\"] = 0\n",
    "df_copy[\"emp_length\"][df_copy[\"emp_length\"] == \"< 1 year\"] = 1\n",
    "df_copy[\"emp_length\"][df_copy[\"emp_length\"] == \"1 year\"] = 2\n",
    "df_copy[\"emp_length\"][df_copy[\"emp_length\"] == \"2 years\"] = 3\n",
    "df_copy[\"emp_length\"][df_copy[\"emp_length\"] == \"3 years\"] = 4\n",
    "df_copy[\"emp_length\"][df_copy[\"emp_length\"] == \"4 years\"] = 5\n",
    "df_copy[\"emp_length\"][df_copy[\"emp_length\"] == \"5 years\"] = 6\n",
    "df_copy[\"emp_length\"][df_copy[\"emp_length\"] == \"6 years\"] = 7\n",
    "df_copy[\"emp_length\"][df_copy[\"emp_length\"] == \"7 years\"] = 8\n",
    "df_copy[\"emp_length\"][df_copy[\"emp_length\"] == \"8 years\"] = 9\n",
    "df_copy[\"emp_length\"][df_copy[\"emp_length\"] == \"9 years\"] = 10\n",
    "df_copy[\"emp_length\"][df_copy[\"emp_length\"] == \"10+ years\"] = 11"
   ]
  },
  {
   "cell_type": "code",
   "execution_count": 49,
   "metadata": {},
   "outputs": [
    {
     "name": "stdout",
     "output_type": "stream",
     "text": [
      "0    11\n",
      "1     1\n",
      "2    11\n",
      "3    11\n",
      "4     2\n",
      "Name: emp_length, dtype: int32\n",
      "[11  1  2  4  9 10  5  6  7  3  8  0]\n"
     ]
    }
   ],
   "source": [
    "df_copy[\"emp_length\"] = df_copy[\"emp_length\"].astype(int)\n",
    "print(df_copy[\"emp_length\"].head())\n",
    "print(df_copy[\"emp_length\"].unique())"
   ]
  },
  {
   "cell_type": "code",
   "execution_count": 50,
   "metadata": {},
   "outputs": [
    {
     "data": {
      "text/html": [
       "<div>\n",
       "<style>\n",
       "    .dataframe thead tr:only-child th {\n",
       "        text-align: right;\n",
       "    }\n",
       "\n",
       "    .dataframe thead th {\n",
       "        text-align: left;\n",
       "    }\n",
       "\n",
       "    .dataframe tbody tr th {\n",
       "        vertical-align: top;\n",
       "    }\n",
       "</style>\n",
       "<table border=\"1\" class=\"dataframe\">\n",
       "  <thead>\n",
       "    <tr style=\"text-align: right;\">\n",
       "      <th></th>\n",
       "      <th>loan_amnt</th>\n",
       "      <th>term</th>\n",
       "      <th>int_rate</th>\n",
       "      <th>grade</th>\n",
       "      <th>emp_length</th>\n",
       "      <th>home_ownership</th>\n",
       "      <th>annual_inc</th>\n",
       "      <th>verification_status</th>\n",
       "      <th>issue_d</th>\n",
       "      <th>purpose</th>\n",
       "      <th>dti</th>\n",
       "      <th>delinq_2yrs</th>\n",
       "      <th>inq_last_6mths</th>\n",
       "      <th>open_acc</th>\n",
       "      <th>pub_rec</th>\n",
       "      <th>revol_bal</th>\n",
       "      <th>initial_list_status</th>\n",
       "      <th>tot_cur_bal</th>\n",
       "      <th>default_ind</th>\n",
       "    </tr>\n",
       "  </thead>\n",
       "  <tbody>\n",
       "    <tr>\n",
       "      <th>0</th>\n",
       "      <td>5000.0</td>\n",
       "      <td>0</td>\n",
       "      <td>10.65</td>\n",
       "      <td>1</td>\n",
       "      <td>11</td>\n",
       "      <td>5</td>\n",
       "      <td>6</td>\n",
       "      <td>2</td>\n",
       "      <td>Dec-2011</td>\n",
       "      <td>1</td>\n",
       "      <td>27.65</td>\n",
       "      <td>0</td>\n",
       "      <td>1.0</td>\n",
       "      <td>3.0</td>\n",
       "      <td>0</td>\n",
       "      <td>3</td>\n",
       "      <td>0</td>\n",
       "      <td>3</td>\n",
       "      <td>0</td>\n",
       "    </tr>\n",
       "    <tr>\n",
       "      <th>1</th>\n",
       "      <td>2500.0</td>\n",
       "      <td>1</td>\n",
       "      <td>15.27</td>\n",
       "      <td>2</td>\n",
       "      <td>1</td>\n",
       "      <td>5</td>\n",
       "      <td>6</td>\n",
       "      <td>1</td>\n",
       "      <td>Dec-2011</td>\n",
       "      <td>0</td>\n",
       "      <td>1.00</td>\n",
       "      <td>0</td>\n",
       "      <td>2.0</td>\n",
       "      <td>3.0</td>\n",
       "      <td>0</td>\n",
       "      <td>1</td>\n",
       "      <td>0</td>\n",
       "      <td>3</td>\n",
       "      <td>1</td>\n",
       "    </tr>\n",
       "    <tr>\n",
       "      <th>2</th>\n",
       "      <td>2400.0</td>\n",
       "      <td>0</td>\n",
       "      <td>15.96</td>\n",
       "      <td>2</td>\n",
       "      <td>11</td>\n",
       "      <td>5</td>\n",
       "      <td>6</td>\n",
       "      <td>0</td>\n",
       "      <td>Dec-2011</td>\n",
       "      <td>11</td>\n",
       "      <td>8.72</td>\n",
       "      <td>0</td>\n",
       "      <td>2.0</td>\n",
       "      <td>2.0</td>\n",
       "      <td>0</td>\n",
       "      <td>1</td>\n",
       "      <td>0</td>\n",
       "      <td>3</td>\n",
       "      <td>0</td>\n",
       "    </tr>\n",
       "    <tr>\n",
       "      <th>3</th>\n",
       "      <td>10000.0</td>\n",
       "      <td>0</td>\n",
       "      <td>13.49</td>\n",
       "      <td>2</td>\n",
       "      <td>11</td>\n",
       "      <td>5</td>\n",
       "      <td>5</td>\n",
       "      <td>1</td>\n",
       "      <td>Dec-2011</td>\n",
       "      <td>9</td>\n",
       "      <td>20.00</td>\n",
       "      <td>0</td>\n",
       "      <td>1.0</td>\n",
       "      <td>10.0</td>\n",
       "      <td>0</td>\n",
       "      <td>2</td>\n",
       "      <td>0</td>\n",
       "      <td>3</td>\n",
       "      <td>0</td>\n",
       "    </tr>\n",
       "    <tr>\n",
       "      <th>4</th>\n",
       "      <td>3000.0</td>\n",
       "      <td>1</td>\n",
       "      <td>12.69</td>\n",
       "      <td>1</td>\n",
       "      <td>2</td>\n",
       "      <td>5</td>\n",
       "      <td>3</td>\n",
       "      <td>1</td>\n",
       "      <td>Dec-2011</td>\n",
       "      <td>9</td>\n",
       "      <td>17.94</td>\n",
       "      <td>0</td>\n",
       "      <td>0.0</td>\n",
       "      <td>15.0</td>\n",
       "      <td>0</td>\n",
       "      <td>4</td>\n",
       "      <td>0</td>\n",
       "      <td>3</td>\n",
       "      <td>0</td>\n",
       "    </tr>\n",
       "  </tbody>\n",
       "</table>\n",
       "</div>"
      ],
      "text/plain": [
       "   loan_amnt  term  int_rate  grade  emp_length  home_ownership  annual_inc  \\\n",
       "0     5000.0     0     10.65      1          11               5           6   \n",
       "1     2500.0     1     15.27      2           1               5           6   \n",
       "2     2400.0     0     15.96      2          11               5           6   \n",
       "3    10000.0     0     13.49      2          11               5           5   \n",
       "4     3000.0     1     12.69      1           2               5           3   \n",
       "\n",
       "   verification_status   issue_d  purpose    dti  delinq_2yrs  inq_last_6mths  \\\n",
       "0                    2  Dec-2011        1  27.65            0             1.0   \n",
       "1                    1  Dec-2011        0   1.00            0             2.0   \n",
       "2                    0  Dec-2011       11   8.72            0             2.0   \n",
       "3                    1  Dec-2011        9  20.00            0             1.0   \n",
       "4                    1  Dec-2011        9  17.94            0             0.0   \n",
       "\n",
       "   open_acc  pub_rec  revol_bal  initial_list_status  tot_cur_bal  default_ind  \n",
       "0       3.0        0          3                    0            3            0  \n",
       "1       3.0        0          1                    0            3            1  \n",
       "2       2.0        0          1                    0            3            0  \n",
       "3      10.0        0          2                    0            3            0  \n",
       "4      15.0        0          4                    0            3            0  "
      ]
     },
     "execution_count": 50,
     "metadata": {},
     "output_type": "execute_result"
    }
   ],
   "source": [
    "for_label_encode = [\"term\",\"grade\",\"home_ownership\",\n",
    "                    \"verification_status\",\"purpose\",\"initial_list_status\"]\n",
    "from sklearn import preprocessing\n",
    "le = {}\n",
    "for x in for_label_encode:\n",
    "    le[x] = preprocessing.LabelEncoder()\n",
    "for x in for_label_encode:\n",
    "    df_copy[x] = le[x].fit_transform(df_copy.__getattr__(x))\n",
    "df_copy.head()"
   ]
  },
  {
   "cell_type": "code",
   "execution_count": 51,
   "metadata": {},
   "outputs": [
    {
     "name": "stdout",
     "output_type": "stream",
     "text": [
      "term : \n",
      "[' 36 months' ' 60 months']\n",
      "[0 1]\n",
      "grade : \n",
      "['B' 'C' 'A' 'E' 'F' 'D' 'G']\n",
      "[1 2 0 4 5 3 6]\n",
      "home_ownership : \n",
      "['RENT' 'OWN' 'MORTGAGE' 'OTHER' 'NONE' 'ANY']\n",
      "[5 4 1 3 2 0]\n",
      "verification_status : \n",
      "['Verified' 'Source Verified' 'Not Verified']\n",
      "[2 1 0]\n",
      "purpose : \n",
      "['credit_card' 'car' 'small_business' 'other' 'wedding'\n",
      " 'debt_consolidation' 'home_improvement' 'major_purchase' 'medical'\n",
      " 'moving' 'vacation' 'house' 'renewable_energy' 'educational']\n",
      "[ 1  0 11  9 13  2  4  6  7  8 12  5 10  3]\n",
      "initial_list_status : \n",
      "['f' 'w']\n",
      "[0 1]\n"
     ]
    }
   ],
   "source": [
    "for x in for_label_encode:\n",
    "    print(x,\": \")\n",
    "    print(df[x].unique())\n",
    "    print(df_copy[x].unique())"
   ]
  },
  {
   "cell_type": "markdown",
   "metadata": {},
   "source": [
    "<h3>Now lets split the data into train and test according to date's.</h3>\n",
    "<h5>\"The data should be divided into train ( June 2007 - May 2015 ) and out-of-time test ( June 2015 - Dec 2015 ) data.\"</h5>"
   ]
  },
  {
   "cell_type": "code",
   "execution_count": 52,
   "metadata": {},
   "outputs": [
    {
     "name": "stdout",
     "output_type": "stream",
     "text": [
      "['Jan-2007', 'Feb-2007', 'Mar-2007', 'Apr-2007', 'May-2007', 'Jun-2007', 'Jul-2007', 'Aug-2007', 'Sep-2007', 'Oct-2007', 'Nov-2007', 'Dec-2007', 'Jan-2008', 'Feb-2008', 'Mar-2008', 'Apr-2008', 'May-2008', 'Jun-2008', 'Jul-2008', 'Aug-2008', 'Sep-2008', 'Oct-2008', 'Nov-2008', 'Dec-2008', 'Jan-2009', 'Feb-2009', 'Mar-2009', 'Apr-2009', 'May-2009', 'Jun-2009', 'Jul-2009', 'Aug-2009', 'Sep-2009', 'Oct-2009', 'Nov-2009', 'Dec-2009', 'Jan-2010', 'Feb-2010', 'Mar-2010', 'Apr-2010', 'May-2010', 'Jun-2010', 'Jul-2010', 'Aug-2010', 'Sep-2010', 'Oct-2010', 'Nov-2010', 'Dec-2010', 'Jan-2011', 'Feb-2011', 'Mar-2011', 'Apr-2011', 'May-2011', 'Jun-2011', 'Jul-2011', 'Aug-2011', 'Sep-2011', 'Oct-2011', 'Nov-2011', 'Dec-2011', 'Jan-2012', 'Feb-2012', 'Mar-2012', 'Apr-2012', 'May-2012', 'Jun-2012', 'Jul-2012', 'Aug-2012', 'Sep-2012', 'Oct-2012', 'Nov-2012', 'Dec-2012', 'Jan-2013', 'Feb-2013', 'Mar-2013', 'Apr-2013', 'May-2013', 'Jun-2013', 'Jul-2013', 'Aug-2013', 'Sep-2013', 'Oct-2013', 'Nov-2013', 'Dec-2013', 'Jan-2014', 'Feb-2014', 'Mar-2014', 'Apr-2014', 'May-2014', 'Jun-2014', 'Jul-2014', 'Aug-2014', 'Sep-2014', 'Oct-2014', 'Nov-2014', 'Dec-2014', 'Jan-2015', 'Feb-2015', 'Mar-2015', 'Apr-2015', 'May-2015']\n"
     ]
    }
   ],
   "source": [
    "issue_dates = []\n",
    "for year in np.arange(2007,2016) :\n",
    "    for month in np.arange(1 , 13):\n",
    "        d = datetime.date(year , month , 1)\n",
    "        m = str(d.strftime(\"%b\"))\n",
    "        sep = \"-\"\n",
    "        y = str(d.year)\n",
    "        full = m + sep + y\n",
    "        issue_dates.append(full)\n",
    "print(issue_dates[:101])"
   ]
  },
  {
   "cell_type": "code",
   "execution_count": 53,
   "metadata": {
    "collapsed": true
   },
   "outputs": [],
   "source": [
    "data_split_type = []\n",
    "for date in df_copy[\"issue_d\"].values:\n",
    "    if date in issue_dates[:101]:\n",
    "        data_split_type.append(\"train\")\n",
    "    else:\n",
    "        data_split_type.append(\"test\")\n",
    "df_copy[\"type\"] =  data_split_type"
   ]
  },
  {
   "cell_type": "code",
   "execution_count": 54,
   "metadata": {
    "collapsed": true
   },
   "outputs": [],
   "source": [
    "df_till_may2015 = pd.DataFrame(df_copy[df_copy[\"type\"] == \"train\"])\n",
    "df_test = pd.DataFrame(df_copy[df_copy[\"type\"] == \"test\"])"
   ]
  },
  {
   "cell_type": "code",
   "execution_count": 55,
   "metadata": {
    "collapsed": true
   },
   "outputs": [],
   "source": [
    "del df_till_may2015[\"type\"]\n",
    "del df_till_may2015[\"issue_d\"]\n",
    "\n",
    "del df_test[\"type\"]\n",
    "del df_test[\"issue_d\"]"
   ]
  },
  {
   "cell_type": "code",
   "execution_count": 56,
   "metadata": {},
   "outputs": [
    {
     "name": "stdout",
     "output_type": "stream",
     "text": [
      "(598978, 18)\n",
      "(256991, 18)\n"
     ]
    }
   ],
   "source": [
    "print(df_till_may2015.shape)\n",
    "print(df_test.shape)"
   ]
  },
  {
   "cell_type": "markdown",
   "metadata": {},
   "source": [
    "<h3>Modeling.</h3>\n",
    "<h4>As we know that the dependent variable has imbalanced classes or skewed class , so we will take different approaches for modeling like :- </h4>\n",
    "<h4>1) Adding penalty to the loss function or cost function.</h4>\n",
    "<h4>2) Up sampling</h4>\n",
    "<h4>3) Down sampling </h4>\n",
    "<h4>4) Up sampling and down sampling</h4>"
   ]
  },
  {
   "cell_type": "markdown",
   "metadata": {},
   "source": [
    "<h2>Logistic Regression</h2>"
   ]
  },
  {
   "cell_type": "code",
   "execution_count": 57,
   "metadata": {},
   "outputs": [
    {
     "name": "stdout",
     "output_type": "stream",
     "text": [
      "[[  5.00000000e+03   0.00000000e+00   1.06500000e+01 ...,   3.00000000e+00\n",
      "    0.00000000e+00   3.00000000e+00]\n",
      " [  2.50000000e+03   1.00000000e+00   1.52700000e+01 ...,   1.00000000e+00\n",
      "    0.00000000e+00   3.00000000e+00]\n",
      " [  2.40000000e+03   0.00000000e+00   1.59600000e+01 ...,   1.00000000e+00\n",
      "    0.00000000e+00   3.00000000e+00]\n",
      " ..., \n",
      " [  1.30000000e+04   1.00000000e+00   1.59900000e+01 ...,   3.00000000e+00\n",
      "    1.00000000e+00   5.00000000e+00]\n",
      " [  1.20000000e+04   1.00000000e+00   1.99900000e+01 ...,   2.00000000e+00\n",
      "    1.00000000e+00   5.00000000e+00]\n",
      " [  2.00000000e+04   0.00000000e+00   1.19900000e+01 ...,   4.00000000e+00\n",
      "    0.00000000e+00   5.00000000e+00]]\n",
      "[0 1 0 ..., 0 0 0]\n"
     ]
    }
   ],
   "source": [
    "x = df_till_may2015.iloc[ : , :-1].values\n",
    "y = df_till_may2015.iloc[ : , -1 ].values\n",
    "print(x)\n",
    "print(y)"
   ]
  },
  {
   "cell_type": "code",
   "execution_count": 103,
   "metadata": {
    "collapsed": true
   },
   "outputs": [],
   "source": [
    "from sklearn.preprocessing import StandardScaler\n",
    "scalar = StandardScaler()\n",
    "scalar.fit(x)\n",
    "x = scalar.transform(x)"
   ]
  },
  {
   "cell_type": "code",
   "execution_count": 104,
   "metadata": {
    "collapsed": true
   },
   "outputs": [],
   "source": [
    "from sklearn.model_selection import train_test_split as split\n",
    "x_train , x_test , y_train , y_test = split(x , y ,\n",
    "                                            test_size = 0.3 , \n",
    "                                            random_state = 123)"
   ]
  },
  {
   "cell_type": "markdown",
   "metadata": {},
   "source": [
    "<b>First we will check the classification using Logistic regression without tunning the parameters</b>"
   ]
  },
  {
   "cell_type": "code",
   "execution_count": 107,
   "metadata": {},
   "outputs": [
    {
     "name": "stdout",
     "output_type": "stream",
     "text": [
      "On train : \n",
      "confusion matrix\n",
      "[[387007      2]\n",
      " [ 32275      0]]\n",
      "\n",
      " \n",
      "report\n",
      "\n",
      "             precision    recall  f1-score   support\n",
      "\n",
      "          0       0.92      1.00      0.96    387009\n",
      "          1       0.00      0.00      0.00     32275\n",
      "\n",
      "avg / total       0.85      0.92      0.89    419284\n",
      "\n",
      "0.923018765324\n",
      "\n",
      " On test : \n",
      "confusion matrix\n",
      "[[165813      0]\n",
      " [ 13881      0]]\n",
      "\n",
      " \n",
      "report\n",
      "\n",
      "             precision    recall  f1-score   support\n",
      "\n",
      "          0       0.92      1.00      0.96    165813\n",
      "          1       0.00      0.00      0.00     13881\n",
      "\n",
      "avg / total       0.85      0.92      0.89    179694\n",
      "\n",
      "0.922752011753\n"
     ]
    }
   ],
   "source": [
    "algo = (LogisticRegression())\n",
    "algo.fit(x_train , y_train)\n",
    "\n",
    "pred_y_cv = algo.predict(x_train)\n",
    "\n",
    "print(\"On train : \")\n",
    "print(\"confusion matrix\")\n",
    "print(confusion_matrix(y_train , pred_y_cv))\n",
    "print(\"\\n \\nreport\\n\")\n",
    "print(classification_report(y_train , pred_y_cv))\n",
    "print(accuracy_score(y_train , pred_y_cv))\n",
    "\n",
    "pred_y = algo.predict(x_test)\n",
    "print(\"\\n On test : \")\n",
    "print(\"confusion matrix\")\n",
    "print(confusion_matrix(y_test , pred_y))\n",
    "print(\"\\n \\nreport\\n\")\n",
    "print(classification_report(y_test , pred_y))\n",
    "print(accuracy_score(y_test , pred_y))"
   ]
  },
  {
   "cell_type": "markdown",
   "metadata": {},
   "source": [
    "<b>From above output we see that the model is not predicting 1(\"defaulters\")</b><br>\n",
    "<b>Now lets tune the parameters .</b>"
   ]
  },
  {
   "cell_type": "code",
   "execution_count": 108,
   "metadata": {},
   "outputs": [
    {
     "name": "stdout",
     "output_type": "stream",
     "text": [
      "On train : \n",
      "confusion matrix\n",
      "[[250540 136469]\n",
      " [ 11047  21228]]\n",
      "\n",
      " \n",
      "report\n",
      "\n",
      "             precision    recall  f1-score   support\n",
      "\n",
      "          0       0.96      0.65      0.77    387009\n",
      "          1       0.13      0.66      0.22     32275\n",
      "\n",
      "avg / total       0.89      0.65      0.73    419284\n",
      "\n",
      "0.648171644995\n",
      "\n",
      " On test : \n",
      "confusion matrix\n",
      "[[107121  58692]\n",
      " [  4739   9142]]\n",
      "\n",
      " \n",
      "report\n",
      "\n",
      "             precision    recall  f1-score   support\n",
      "\n",
      "          0       0.96      0.65      0.77    165813\n",
      "          1       0.13      0.66      0.22     13881\n",
      "\n",
      "avg / total       0.89      0.65      0.73    179694\n",
      "\n",
      "0.647005464846\n"
     ]
    }
   ],
   "source": [
    "algo = (LogisticRegression(class_weight= \"balanced\" ,  solver= \"sag\" , max_iter = 500 , tol= 0.0001))\n",
    "algo.fit(x_train , y_train)\n",
    "\n",
    "pred_y_cv = algo.predict(x_train)\n",
    "\n",
    "print(\"On train : \")\n",
    "print(\"confusion matrix\")\n",
    "print(confusion_matrix(y_train , pred_y_cv))\n",
    "print(\"\\n \\nreport\\n\")\n",
    "print(classification_report(y_train , pred_y_cv))\n",
    "print(accuracy_score(y_train , pred_y_cv))\n",
    "\n",
    "pred_y = algo.predict(x_test)\n",
    "print(\"\\n On test : \")\n",
    "print(\"confusion matrix\")\n",
    "print(confusion_matrix(y_test , pred_y))\n",
    "print(\"\\n \\nreport\\n\")\n",
    "print(classification_report(y_test , pred_y))\n",
    "print(accuracy_score(y_test , pred_y))"
   ]
  },
  {
   "cell_type": "markdown",
   "metadata": {},
   "source": [
    "<b>Now he we got better results then before , even though the accuracy is decreasing but model predicted 1(\"defaulters\")</b><br>\n",
    "<b>And even the precision and recall rate has increased for 1(\"defaulters\")</b><br>\n",
    "<b>Now as we can see this model is working fine lets change the threshold and see the results </b>"
   ]
  },
  {
   "cell_type": "code",
   "execution_count": 109,
   "metadata": {},
   "outputs": [
    {
     "name": "stdout",
     "output_type": "stream",
     "text": [
      "confusion matrix\n",
      "[[257353 129656]\n",
      " [ 11626  20649]]\n",
      "\n",
      " \n",
      "report\n",
      "\n",
      "             precision    recall  f1-score   support\n",
      "\n",
      "          0       0.96      0.66      0.78    387009\n",
      "          1       0.14      0.64      0.23     32275\n",
      "\n",
      "avg / total       0.89      0.66      0.74    419284\n",
      "\n",
      "0.663039848885\n"
     ]
    }
   ],
   "source": [
    "pred_y_thres = algo.predict_proba(x_train)\n",
    "\n",
    "pred_y_thres_50_99 = []\n",
    "for i in pd.DataFrame(pred_y_thres)[1]:\n",
    "    if i >= 0.5099:\n",
    "        pred_y_thres_50_99.append(1)\n",
    "    else :\n",
    "        pred_y_thres_50_99.append(0)\n",
    "\n",
    "print(\"confusion matrix\")\n",
    "print(confusion_matrix(y_train , pred_y_thres_50_99))\n",
    "print(\"\\n \\nreport\\n\")\n",
    "print(classification_report(y_train , pred_y_thres_50_99))\n",
    "print(accuracy_score(y_train , pred_y_thres_50_99))"
   ]
  },
  {
   "cell_type": "markdown",
   "metadata": {},
   "source": [
    "<b>So we got 2 percent increase in our accuracy .</b><br>\n",
    "<b>As we can see the accuracy on train is less than 70 which is underfiting lets try by adding penalty to the cost function or loss function and then check acccuracy respectively and the classification report</b><br>\n",
    "<br>\n",
    "<b>So now we will have to bare implementation of logistic and then add penalty to it.</b>"
   ]
  },
  {
   "cell_type": "code",
   "execution_count": 72,
   "metadata": {
    "collapsed": true
   },
   "outputs": [],
   "source": [
    "def costFunction(x,y,theta):\n",
    "    z = x @ (-(theta.T))\n",
    "    euler = np.power(math.e , z)\n",
    "    pred_y = 1/(1 + euler)\n",
    "    \n",
    "    costF = ( (-y*((np.log(pred_y)) ) ) - (1-y)* (np.log(1-pred_y)) )\n",
    "    \n",
    "    return sum(costF)/len(x)\n",
    "    \n",
    "def gradientDescent(x , y , theta , alpha , iterations , convergence_threshold = None):\n",
    "    cost = np.zeros(iterations)\n",
    "    for i in range(iterations):\n",
    "        \n",
    "        z = x @ (-(theta.T))\n",
    "        eulers = np.power(math.e , z)\n",
    "        pred_y = 1/(1+eulers)\n",
    "        \n",
    "        penaltied_cost = []\n",
    "        for p_y , a_y in zip(pred_y,y):\n",
    "            if a_y == 1:\n",
    "                penaltied_cost.append( float(5.5*(p_y - a_y)) )\n",
    "            else:\n",
    "                penaltied_cost.append( float((p_y - a_y)) )\n",
    "        penaltied_cost = np.array([penaltied_cost])\n",
    "        penaltied_cost = penaltied_cost.reshape(penaltied_cost.shape[1] , 1)\n",
    "        partialDerivativeoftheta = (1/len(x))* (sum((penaltied_cost)*x))\n",
    "        \n",
    "        theta = theta - (alpha*partialDerivativeoftheta)\n",
    "        cost[i] = costFunction(x,y,theta)\n",
    "        \n",
    "        \n",
    "        if not convergence_threshold == None and cost[i] < convergence_threshold:\n",
    "            break \n",
    "    return theta , cost\n",
    "\n",
    "def logistic_regression( x , theta):\n",
    "\tz  = x @ (-theta.T)\n",
    "\teulers = np.power(math.e , z)\n",
    "\tpred_y = 1 / (1 + eulers)\n",
    "\n",
    "\tclassified = []\n",
    "\tfor i in pred_y:\n",
    "\t\tif i >= 0.5099:\n",
    "\t\t\tclassified.append(1)\n",
    "\t\telse:\n",
    "\t\t\tclassified.append(0)\n",
    "\n",
    "\treturn pred_y , classified"
   ]
  },
  {
   "cell_type": "code",
   "execution_count": 73,
   "metadata": {
    "collapsed": true
   },
   "outputs": [],
   "source": [
    "alpha = 0.01\n",
    "iterations = 80"
   ]
  },
  {
   "cell_type": "code",
   "execution_count": 74,
   "metadata": {
    "collapsed": true
   },
   "outputs": [],
   "source": [
    "x = df_till_may2015.iloc[ : , :-1].values\n",
    "y = df_till_may2015.iloc[ : , -1 ].values\n",
    "\n",
    "x0 = np.ones([x.shape[0],1])\n",
    "x = np.concatenate((x0,x) , axis = 1)\n",
    "y = y.reshape(y.shape[0],1)\n",
    "\n",
    "from sklearn.preprocessing import StandardScaler\n",
    "scalar = StandardScaler()\n",
    "scalar.fit(x)\n",
    "x = scalar.transform(x)\n",
    "\n",
    "theta = np.zeros([1,x.shape[1]])\n"
   ]
  },
  {
   "cell_type": "code",
   "execution_count": 75,
   "metadata": {
    "collapsed": true
   },
   "outputs": [],
   "source": [
    "from sklearn.model_selection import train_test_split as split\n",
    "x_train , x_test , y_train , y_test = split(x , y ,\n",
    "                                            test_size = 0.3 , \n",
    "                                            random_state = 123)"
   ]
  },
  {
   "cell_type": "code",
   "execution_count": 76,
   "metadata": {},
   "outputs": [
    {
     "name": "stdout",
     "output_type": "stream",
     "text": [
      "[[ 0.          0.00045456  0.01955261  0.0849821   0.07120911 -0.01002833\n",
      "   0.02047814  0.03502873  0.02219905  0.02376734  0.01461788 -0.00559123\n",
      "   0.03820659 -0.00812205 -0.01180911 -0.0075616  -0.04153035  0.00509982]]\n"
     ]
    }
   ],
   "source": [
    "coef , new_cost = gradientDescent(x_train , y_train , theta , alpha , iterations)\n",
    "print(coef)"
   ]
  },
  {
   "cell_type": "code",
   "execution_count": 178,
   "metadata": {},
   "outputs": [
    {
     "name": "stdout",
     "output_type": "stream",
     "text": [
      "On train : \n",
      "confusion matrix\n",
      "[[237930 149079]\n",
      " [ 10959  21316]]\n",
      "\n",
      " \n",
      "report\n",
      "\n",
      "             precision    recall  f1-score   support\n",
      "\n",
      "          0       0.96      0.61      0.75    387009\n",
      "          1       0.13      0.66      0.21     32275\n",
      "\n",
      "avg / total       0.89      0.62      0.71    419284\n",
      "\n",
      "0.618306446227\n",
      "\n",
      " On test : \n",
      "confusion matrix\n",
      "[[101723  64090]\n",
      " [  4715   9166]]\n",
      "\n",
      " \n",
      "report\n",
      "\n",
      "             precision    recall  f1-score   support\n",
      "\n",
      "          0       0.96      0.61      0.75    165813\n",
      "          1       0.13      0.66      0.21     13881\n",
      "\n",
      "avg / total       0.89      0.62      0.71    179694\n",
      "\n",
      "0.617099068416\n"
     ]
    }
   ],
   "source": [
    "pred_y_cv , classified_cv = logistic_regression(x_train , coef)\n",
    "print(\"On train : \")\n",
    "print(\"confusion matrix\")\n",
    "print(confusion_matrix(y_train , classified_cv))\n",
    "print(\"\\n \\nreport\\n\")\n",
    "print(classification_report(y_train , classified_cv))\n",
    "print(accuracy_score(y_train , classified_cv))\n",
    "\n",
    "pred_y , classified = logistic_regression(x_test , coef)\n",
    "print(\"\\n On test : \")\n",
    "print(\"confusion matrix\")\n",
    "print(confusion_matrix(y_test , classified))\n",
    "print(\"\\n \\nreport\\n\")\n",
    "print(classification_report(y_test , classified))\n",
    "print(accuracy_score(y_test , classified))"
   ]
  },
  {
   "cell_type": "markdown",
   "metadata": {},
   "source": [
    "<b>Now lets try with up sampling and down sampling.</b>"
   ]
  },
  {
   "cell_type": "code",
   "execution_count": 145,
   "metadata": {},
   "outputs": [
    {
     "data": {
      "text/plain": [
       "0    350000\n",
       "1    200000\n",
       "Name: default_ind, dtype: int64"
      ]
     },
     "execution_count": 145,
     "metadata": {},
     "output_type": "execute_result"
    }
   ],
   "source": [
    "from sklearn.utils import resample\n",
    "\n",
    "df_majority = df_till_may2015[df_till_may2015.default_ind==0]\n",
    "df_minority = df_till_may2015[df_till_may2015.default_ind==1]\n",
    "\n",
    "df_minority_upsampled = resample(df_minority, \n",
    "                                replace=True,     \n",
    "                                 n_samples=200000,    \n",
    "                                random_state=123) \n",
    "\n",
    "df_majority_downsampled = resample(df_majority, \n",
    "                                 replace=False,    \n",
    "                                 n_samples=350000,\n",
    "                                 random_state=123)\n",
    " \n",
    "\n",
    "df_sampled = pd.concat([df_majority_downsampled, df_minority_upsampled])\n",
    " \n",
    "df_sampled.default_ind.value_counts()\n"
   ]
  },
  {
   "cell_type": "code",
   "execution_count": 146,
   "metadata": {
    "collapsed": true
   },
   "outputs": [],
   "source": [
    "x = df_sampled.iloc[ : , :-1].values\n",
    "y = df_sampled.iloc[ : , -1 ].values\n",
    "\n",
    "\n",
    "from sklearn.preprocessing import StandardScaler\n",
    "scalar = StandardScaler()\n",
    "scalar.fit(x)\n",
    "x = scalar.transform(x)\n",
    "\n",
    "from sklearn.model_selection import train_test_split as split\n",
    "x_train , x_test , y_train , y_test = split(x , y ,\n",
    "                                            test_size = 0.3 , \n",
    "                                            random_state = 123)"
   ]
  },
  {
   "cell_type": "code",
   "execution_count": 147,
   "metadata": {},
   "outputs": [
    {
     "name": "stdout",
     "output_type": "stream",
     "text": [
      "On train : \n",
      "confusion matrix\n",
      "[[209248  35804]\n",
      " [ 88052  51896]]\n",
      "\n",
      " \n",
      "report\n",
      "\n",
      "             precision    recall  f1-score   support\n",
      "\n",
      "          0       0.70      0.85      0.77    245052\n",
      "          1       0.59      0.37      0.46    139948\n",
      "\n",
      "avg / total       0.66      0.68      0.66    385000\n",
      "\n",
      "0.678296103896\n",
      "\n",
      " On test : \n",
      "confusion matrix\n",
      "[[89648 15300]\n",
      " [37796 22256]]\n",
      "\n",
      " \n",
      "report\n",
      "\n",
      "             precision    recall  f1-score   support\n",
      "\n",
      "          0       0.70      0.85      0.77    104948\n",
      "          1       0.59      0.37      0.46     60052\n",
      "\n",
      "avg / total       0.66      0.68      0.66    165000\n",
      "\n",
      "0.678206060606\n"
     ]
    }
   ],
   "source": [
    "algo = (LogisticRegression(solver= \"sag\" , max_iter = 1500 , tol= 0.00001))\n",
    "algo.fit(x_train , y_train)\n",
    "\n",
    "pred_y_cv = algo.predict(x_train)\n",
    "\n",
    "print(\"On train : \")\n",
    "print(\"confusion matrix\")\n",
    "print(confusion_matrix(y_train , pred_y_cv))\n",
    "print(\"\\n \\nreport\\n\")\n",
    "print(classification_report(y_train , pred_y_cv))\n",
    "print(accuracy_score(y_train , pred_y_cv))\n",
    "\n",
    "pred_y = algo.predict(x_test)\n",
    "print(\"\\n On test : \")\n",
    "print(\"confusion matrix\")\n",
    "print(confusion_matrix(y_test , pred_y))\n",
    "print(\"\\n \\nreport\\n\")\n",
    "print(classification_report(y_test , pred_y))\n",
    "print(accuracy_score(y_test , pred_y))"
   ]
  },
  {
   "cell_type": "code",
   "execution_count": 156,
   "metadata": {},
   "outputs": [
    {
     "name": "stdout",
     "output_type": "stream",
     "text": [
      "confusion matrix\n",
      "[[211747  33305]\n",
      " [ 90947  49001]]\n",
      "\n",
      " \n",
      "report\n",
      "\n",
      "             precision    recall  f1-score   support\n",
      "\n",
      "          0       0.70      0.86      0.77    245052\n",
      "          1       0.60      0.35      0.44    139948\n",
      "\n",
      "avg / total       0.66      0.68      0.65    385000\n",
      "\n",
      "0.677267532468\n"
     ]
    }
   ],
   "source": [
    "pred_y_thres = algo.predict_proba(x_train)\n",
    "\n",
    "pred_y_thres_50_99 = []\n",
    "for i in pd.DataFrame(pred_y_thres)[1]:\n",
    "    if i >= 0.5099:\n",
    "        pred_y_thres_50_99.append(1)\n",
    "    else :\n",
    "        pred_y_thres_50_99.append(0)\n",
    "\n",
    "print(\"confusion matrix\")\n",
    "print(confusion_matrix(y_train , pred_y_thres_50_99))\n",
    "print(\"\\n \\nreport\\n\")\n",
    "print(classification_report(y_train , pred_y_thres_50_99))\n",
    "print(accuracy_score(y_train , pred_y_thres_50_99))"
   ]
  },
  {
   "cell_type": "markdown",
   "metadata": {},
   "source": [
    "<b>As we can see the type two error is increasing , lets try Up sampling </b><br>\n"
   ]
  },
  {
   "cell_type": "code",
   "execution_count": 157,
   "metadata": {},
   "outputs": [
    {
     "data": {
      "text/plain": [
       "0    950000\n",
       "1    500000\n",
       "Name: default_ind, dtype: int64"
      ]
     },
     "execution_count": 157,
     "metadata": {},
     "output_type": "execute_result"
    }
   ],
   "source": [
    "df_majority = df_till_may2015[df_till_may2015.default_ind==0]\n",
    "df_minority = df_till_may2015[df_till_may2015.default_ind==1]\n",
    "\n",
    "df_minority_upsampled = resample(df_minority, \n",
    "                                replace=True,     \n",
    "                                 n_samples=500000,    \n",
    "                                random_state=123) \n",
    "\n",
    "df_majority_downsampled = resample(df_majority, \n",
    "                                 replace=True,    \n",
    "                                 n_samples=950000,\n",
    "                                 random_state=123)\n",
    " \n",
    "\n",
    "df_sampled = pd.concat([df_majority_downsampled, df_minority_upsampled])\n",
    " \n",
    "df_sampled.default_ind.value_counts()"
   ]
  },
  {
   "cell_type": "code",
   "execution_count": 158,
   "metadata": {
    "collapsed": true
   },
   "outputs": [],
   "source": [
    "x = df_sampled.iloc[ : , :-1].values\n",
    "y = df_sampled.iloc[ : , -1 ].values\n",
    "\n",
    "\n",
    "from sklearn.preprocessing import StandardScaler\n",
    "scalar = StandardScaler()\n",
    "scalar.fit(x)\n",
    "x = scalar.transform(x)\n",
    "\n",
    "from sklearn.model_selection import train_test_split as split\n",
    "x_train , x_test , y_train , y_test = split(x , y ,\n",
    "                                            test_size = 0.3 , \n",
    "                                            random_state = 123)"
   ]
  },
  {
   "cell_type": "code",
   "execution_count": 160,
   "metadata": {},
   "outputs": [
    {
     "name": "stdout",
     "output_type": "stream",
     "text": [
      "On train : \n",
      "confusion matrix\n",
      "[[430399 235143]\n",
      " [119442 230016]]\n",
      "\n",
      " \n",
      "report\n",
      "\n",
      "             precision    recall  f1-score   support\n",
      "\n",
      "          0       0.78      0.65      0.71    665542\n",
      "          1       0.49      0.66      0.56    349458\n",
      "\n",
      "avg / total       0.68      0.65      0.66   1015000\n",
      "\n",
      "0.650655172414\n",
      "\n",
      " On test : \n",
      "confusion matrix\n",
      "[[183818 100640]\n",
      " [ 51618  98924]]\n",
      "\n",
      " \n",
      "report\n",
      "\n",
      "             precision    recall  f1-score   support\n",
      "\n",
      "          0       0.78      0.65      0.71    284458\n",
      "          1       0.50      0.66      0.57    150542\n",
      "\n",
      "avg / total       0.68      0.65      0.66    435000\n",
      "\n",
      "0.649981609195\n"
     ]
    }
   ],
   "source": [
    "algo = (LogisticRegression(class_weight=\"balanced\" , solver= \"sag\" , max_iter = 1500 , tol= 0.00001))\n",
    "algo.fit(x_train , y_train)\n",
    "\n",
    "pred_y_cv = algo.predict(x_train)\n",
    "\n",
    "print(\"On train : \")\n",
    "print(\"confusion matrix\")\n",
    "print(confusion_matrix(y_train , pred_y_cv))\n",
    "print(\"\\n \\nreport\\n\")\n",
    "print(classification_report(y_train , pred_y_cv))\n",
    "print(accuracy_score(y_train , pred_y_cv))\n",
    "\n",
    "pred_y = algo.predict(x_test)\n",
    "print(\"\\n On test : \")\n",
    "print(\"confusion matrix\")\n",
    "print(confusion_matrix(y_test , pred_y))\n",
    "print(\"\\n \\nreport\\n\")\n",
    "print(classification_report(y_test , pred_y))\n",
    "print(accuracy_score(y_test , pred_y))"
   ]
  },
  {
   "cell_type": "code",
   "execution_count": 161,
   "metadata": {},
   "outputs": [
    {
     "name": "stdout",
     "output_type": "stream",
     "text": [
      "confusion matrix\n",
      "[[442079 223463]\n",
      " [125981 223477]]\n",
      "\n",
      " \n",
      "report\n",
      "\n",
      "             precision    recall  f1-score   support\n",
      "\n",
      "          0       0.78      0.66      0.72    665542\n",
      "          1       0.50      0.64      0.56    349458\n",
      "\n",
      "avg / total       0.68      0.66      0.66   1015000\n",
      "\n",
      "0.655720197044\n"
     ]
    }
   ],
   "source": [
    "pred_y_thres = algo.predict_proba(x_train)\n",
    "\n",
    "pred_y_thres_50_99 = []\n",
    "for i in pd.DataFrame(pred_y_thres)[1]:\n",
    "    if i >= 0.5099:\n",
    "        pred_y_thres_50_99.append(1)\n",
    "    else :\n",
    "        pred_y_thres_50_99.append(0)\n",
    "\n",
    "print(\"confusion matrix\")\n",
    "print(confusion_matrix(y_train , pred_y_thres_50_99))\n",
    "print(\"\\n \\nreport\\n\")\n",
    "print(classification_report(y_train , pred_y_thres_50_99))\n",
    "print(accuracy_score(y_train , pred_y_thres_50_99))"
   ]
  },
  {
   "cell_type": "markdown",
   "metadata": {},
   "source": [
    "<b>As we infer from all the outputs of logistic Regression that , logistic regression is not performing well .</b><br>\n",
    "<b>Now lets try ensemble models Random Forest and Xgboost </b>"
   ]
  },
  {
   "cell_type": "code",
   "execution_count": 162,
   "metadata": {
    "collapsed": true
   },
   "outputs": [],
   "source": [
    "x = df_till_may2015.iloc[ : , :-1].values\n",
    "y = df_till_may2015.iloc[ : , -1 ].values\n",
    "\n",
    "scalar = StandardScaler()\n",
    "scalar.fit(x)\n",
    "x = scalar.transform(x)\n",
    "\n",
    "from sklearn.model_selection import train_test_split as split\n",
    "x_train , x_test , y_train , y_test = split(x , y ,\n",
    "                                            test_size = 0.3 , \n",
    "                                            random_state = 123)"
   ]
  },
  {
   "cell_type": "code",
   "execution_count": 163,
   "metadata": {},
   "outputs": [
    {
     "name": "stdout",
     "output_type": "stream",
     "text": [
      "On train : \n",
      "confusion matrix\n",
      "[[387005      4]\n",
      " [  5910  26365]]\n",
      "\n",
      " \n",
      "report\n",
      "\n",
      "             precision    recall  f1-score   support\n",
      "\n",
      "          0       0.98      1.00      0.99    387009\n",
      "          1       1.00      0.82      0.90     32275\n",
      "\n",
      "avg / total       0.99      0.99      0.99    419284\n",
      "\n",
      "0.985895001956\n",
      "\n",
      " On test : \n",
      "confusion matrix\n",
      "[[165434    379]\n",
      " [ 13739    142]]\n",
      "\n",
      " \n",
      "report\n",
      "\n",
      "             precision    recall  f1-score   support\n",
      "\n",
      "          0       0.92      1.00      0.96    165813\n",
      "          1       0.27      0.01      0.02     13881\n",
      "\n",
      "avg / total       0.87      0.92      0.89    179694\n",
      "\n",
      "0.921433102942\n"
     ]
    }
   ],
   "source": [
    "algo = (RandomForestClassifier())\n",
    "algo.fit(x_train , y_train)\n",
    "\n",
    "pred_y_cv = algo.predict(x_train)\n",
    "print(\"On train : \")\n",
    "print(\"confusion matrix\")\n",
    "print(confusion_matrix(y_train , pred_y_cv))\n",
    "print(\"\\n \\nreport\\n\")\n",
    "print(classification_report(y_train , pred_y_cv))\n",
    "print(accuracy_score(y_train , pred_y_cv))\n",
    "\n",
    "pred_y = algo.predict(x_test)\n",
    "print(\"\\n On test : \")\n",
    "print(\"confusion matrix\")\n",
    "print(confusion_matrix(y_test , pred_y))\n",
    "print(\"\\n \\nreport\\n\")\n",
    "print(classification_report(y_test , pred_y))\n",
    "print(accuracy_score(y_test , pred_y))"
   ]
  },
  {
   "cell_type": "markdown",
   "metadata": {},
   "source": [
    "<b>As we can infer that it performed good on the data it was trained and performed poor on unknown data , this is a case of overfiting lets tune the parameters .</b>"
   ]
  },
  {
   "cell_type": "code",
   "execution_count": 164,
   "metadata": {},
   "outputs": [
    {
     "name": "stdout",
     "output_type": "stream",
     "text": [
      "On train : \n",
      "confusion matrix\n",
      "[[387009      0]\n",
      " [     0  32275]]\n",
      "\n",
      " \n",
      "report\n",
      "\n",
      "             precision    recall  f1-score   support\n",
      "\n",
      "          0       1.00      1.00      1.00    387009\n",
      "          1       1.00      1.00      1.00     32275\n",
      "\n",
      "avg / total       1.00      1.00      1.00    419284\n",
      "\n",
      "1.0\n",
      "\n",
      " On test : \n",
      "confusion matrix\n",
      "[[165797     16]\n",
      " [ 13875      6]]\n",
      "\n",
      " \n",
      "report\n",
      "\n",
      "             precision    recall  f1-score   support\n",
      "\n",
      "          0       0.92      1.00      0.96    165813\n",
      "          1       0.27      0.00      0.00     13881\n",
      "\n",
      "avg / total       0.87      0.92      0.89    179694\n",
      "\n",
      "0.922696361592\n"
     ]
    }
   ],
   "source": [
    "algo = (RandomForestClassifier(n_estimators = 500 ))\n",
    "algo.fit(x_train , y_train)\n",
    "\n",
    "pred_y_cv = algo.predict(x_train)\n",
    "print(\"On train : \")\n",
    "print(\"confusion matrix\")\n",
    "print(confusion_matrix(y_train , pred_y_cv))\n",
    "print(\"\\n \\nreport\\n\")\n",
    "print(classification_report(y_train , pred_y_cv))\n",
    "print(accuracy_score(y_train , pred_y_cv))\n",
    "\n",
    "pred_y = algo.predict(x_test)\n",
    "print(\"\\n On test : \")\n",
    "print(\"confusion matrix\")\n",
    "print(confusion_matrix(y_test , pred_y))\n",
    "print(\"\\n \\nreport\\n\")\n",
    "print(classification_report(y_test , pred_y))\n",
    "print(accuracy_score(y_test , pred_y))"
   ]
  },
  {
   "cell_type": "markdown",
   "metadata": {},
   "source": [
    "<b>Again overfitting</b>"
   ]
  },
  {
   "cell_type": "code",
   "execution_count": 165,
   "metadata": {},
   "outputs": [
    {
     "name": "stdout",
     "output_type": "stream",
     "text": [
      "On train : \n",
      "confusion matrix\n",
      "[[387009      0]\n",
      " [ 28236   4039]]\n",
      "\n",
      " \n",
      "report\n",
      "\n",
      "             precision    recall  f1-score   support\n",
      "\n",
      "          0       0.93      1.00      0.96    387009\n",
      "          1       1.00      0.13      0.22     32275\n",
      "\n",
      "avg / total       0.94      0.93      0.91    419284\n",
      "\n",
      "0.93265662415\n",
      "\n",
      " On test : \n",
      "confusion matrix\n",
      "[[165813      0]\n",
      " [ 13879      2]]\n",
      "\n",
      " \n",
      "report\n",
      "\n",
      "             precision    recall  f1-score   support\n",
      "\n",
      "          0       0.92      1.00      0.96    165813\n",
      "          1       1.00      0.00      0.00     13881\n",
      "\n",
      "avg / total       0.93      0.92      0.89    179694\n",
      "\n",
      "0.922763141785\n"
     ]
    }
   ],
   "source": [
    "algo = (RandomForestClassifier(n_estimators = 500 , max_depth= 18))\n",
    "algo.fit(x_train , y_train)\n",
    "\n",
    "pred_y_cv = algo.predict(x_train)\n",
    "print(\"On train : \")\n",
    "print(\"confusion matrix\")\n",
    "print(confusion_matrix(y_train , pred_y_cv))\n",
    "print(\"\\n \\nreport\\n\")\n",
    "print(classification_report(y_train , pred_y_cv))\n",
    "print(accuracy_score(y_train , pred_y_cv))\n",
    "\n",
    "pred_y = algo.predict(x_test)\n",
    "print(\"\\n On test : \")\n",
    "print(\"confusion matrix\")\n",
    "print(confusion_matrix(y_test , pred_y))\n",
    "print(\"\\n \\nreport\\n\")\n",
    "print(classification_report(y_test , pred_y))\n",
    "print(accuracy_score(y_test , pred_y))"
   ]
  },
  {
   "cell_type": "markdown",
   "metadata": {},
   "source": [
    "<b>Lets try up sampling and down sampling</b>"
   ]
  },
  {
   "cell_type": "code",
   "execution_count": 59,
   "metadata": {},
   "outputs": [
    {
     "data": {
      "text/plain": [
       "0    350000\n",
       "1    200000\n",
       "Name: default_ind, dtype: int64"
      ]
     },
     "execution_count": 59,
     "metadata": {},
     "output_type": "execute_result"
    }
   ],
   "source": [
    "from sklearn.utils import resample\n",
    "df_majority = df_till_may2015[df_till_may2015.default_ind==0]\n",
    "df_minority = df_till_may2015[df_till_may2015.default_ind==1]\n",
    "\n",
    "df_minority_upsampled = resample(df_minority, \n",
    "                                replace=True,     \n",
    "                                 n_samples=200000,    \n",
    "                                random_state=123) \n",
    "\n",
    "df_majority_downsampled = resample(df_majority, \n",
    "                                 replace=False,    \n",
    "                                 n_samples=350000,\n",
    "                                 random_state=123)\n",
    " \n",
    "\n",
    "df_sampled = pd.concat([df_majority_downsampled, df_minority_upsampled])\n",
    " \n",
    "df_sampled.default_ind.value_counts()"
   ]
  },
  {
   "cell_type": "code",
   "execution_count": 60,
   "metadata": {
    "collapsed": true
   },
   "outputs": [],
   "source": [
    "x = df_sampled.iloc[ : , :-1].values\n",
    "y = df_sampled.iloc[ : , -1 ].values\n",
    "\n",
    "\n",
    "from sklearn.preprocessing import StandardScaler\n",
    "scalar = StandardScaler()\n",
    "scalar.fit(x)\n",
    "x = scalar.transform(x)\n",
    "\n",
    "from sklearn.model_selection import train_test_split as split\n",
    "x_train , x_test , y_train , y_test = split(x , y ,\n",
    "                                            test_size = 0.3 , \n",
    "                                            random_state = 123)"
   ]
  },
  {
   "cell_type": "code",
   "execution_count": 61,
   "metadata": {},
   "outputs": [
    {
     "name": "stdout",
     "output_type": "stream",
     "text": [
      "On train : \n",
      "confusion matrix\n",
      "[[245052      0]\n",
      " [     0 139948]]\n",
      "\n",
      " \n",
      "report\n",
      "\n",
      "             precision    recall  f1-score   support\n",
      "\n",
      "          0       1.00      1.00      1.00    245052\n",
      "          1       1.00      1.00      1.00    139948\n",
      "\n",
      "avg / total       1.00      1.00      1.00    385000\n",
      "\n",
      "1.0\n",
      "\n",
      " On test : \n",
      "confusion matrix\n",
      "[[102663   2285]\n",
      " [  2658  57394]]\n",
      "\n",
      " \n",
      "report\n",
      "\n",
      "             precision    recall  f1-score   support\n",
      "\n",
      "          0       0.97      0.98      0.98    104948\n",
      "          1       0.96      0.96      0.96     60052\n",
      "\n",
      "avg / total       0.97      0.97      0.97    165000\n",
      "\n",
      "0.970042424242\n"
     ]
    }
   ],
   "source": [
    "algo = (RandomForestClassifier(n_estimators = 501 ))\n",
    "algo.fit(x_train , y_train)\n",
    "\n",
    "pred_y_cv = algo.predict(x_train)\n",
    "print(\"On train : \")\n",
    "print(\"confusion matrix\")\n",
    "print(confusion_matrix(y_train , pred_y_cv))\n",
    "print(\"\\n \\nreport\\n\")\n",
    "print(classification_report(y_train , pred_y_cv))\n",
    "print(accuracy_score(y_train , pred_y_cv))\n",
    "\n",
    "pred_y = algo.predict(x_test)\n",
    "print(\"\\n On test : \")\n",
    "print(\"confusion matrix\")\n",
    "print(confusion_matrix(y_test , pred_y))\n",
    "print(\"\\n \\nreport\\n\")\n",
    "print(classification_report(y_test , pred_y))\n",
    "print(accuracy_score(y_test , pred_y))"
   ]
  },
  {
   "cell_type": "markdown",
   "metadata": {},
   "source": [
    "<b>As we can see we got an amazing result , precision and recall of both the class is proper . Now lets try with XgBoost and check whether we get better results than this.</b>"
   ]
  },
  {
   "cell_type": "code",
   "execution_count": 169,
   "metadata": {
    "collapsed": true
   },
   "outputs": [],
   "source": [
    "x = df_till_may2015.iloc[ : , :-1].values\n",
    "y = df_till_may2015.iloc[ : , -1 ].values\n",
    "\n",
    "scalar = StandardScaler()\n",
    "scalar.fit(x)\n",
    "x = scalar.transform(x)\n",
    "\n",
    "from sklearn.model_selection import train_test_split as split\n",
    "x_train , x_test , y_train , y_test = split(x , y ,\n",
    "                                            test_size = 0.3 , \n",
    "                                            random_state = 123)"
   ]
  },
  {
   "cell_type": "code",
   "execution_count": 170,
   "metadata": {},
   "outputs": [
    {
     "data": {
      "text/plain": [
       "XGBClassifier(base_score=0.5, booster='gbtree', colsample_bylevel=1,\n",
       "       colsample_bytree=0.8, gamma=0.5, learning_rate=0.01,\n",
       "       max_delta_step=2, max_depth=9, min_child_weight=5, missing=None,\n",
       "       n_estimators=1000, n_jobs=1, nthread=None,\n",
       "       objective='binary:logistic', random_state=0, reg_alpha=0,\n",
       "       reg_lambda=1, scale_pos_weight=12, seed=27, silent=True,\n",
       "       subsample=0.8)"
      ]
     },
     "execution_count": 170,
     "metadata": {},
     "output_type": "execute_result"
    }
   ],
   "source": [
    "classifier=XGBClassifier(base_score=0.5, booster='gbtree', colsample_bylevel=1,\n",
    "       colsample_bytree=0.8, gamma=0.5, learning_rate=0.01, max_delta_step=2,\n",
    "       max_depth=9, min_child_weight=5, missing=None, n_estimators=1000,\n",
    "       n_jobs=1, nthread=None, objective='binary:logistic', random_state=0,\n",
    "       reg_alpha=0, reg_lambda=1, scale_pos_weight=12, seed=27,\n",
    "       silent=True, subsample=0.8)\n",
    "classifier.fit(x_train,y_train)"
   ]
  },
  {
   "cell_type": "code",
   "execution_count": 172,
   "metadata": {},
   "outputs": [
    {
     "name": "stdout",
     "output_type": "stream",
     "text": [
      "On train : \n",
      "confusion matrix\n",
      "[[275564 111445]\n",
      " [  6203  26072]]\n",
      "\n",
      " \n",
      "report\n",
      "\n",
      "             precision    recall  f1-score   support\n",
      "\n",
      "          0       0.98      0.71      0.82    387009\n",
      "          1       0.19      0.81      0.31     32275\n",
      "\n",
      "avg / total       0.92      0.72      0.78    419284\n",
      "\n",
      "0.71940737066\n",
      "\n",
      " On test : \n",
      "confusion matrix\n",
      "[[116025  49788]\n",
      " [  4748   9133]]\n",
      "\n",
      " \n",
      "report\n",
      "\n",
      "             precision    recall  f1-score   support\n",
      "\n",
      "          0       0.96      0.70      0.81    165813\n",
      "          1       0.16      0.66      0.25     13881\n",
      "\n",
      "avg / total       0.90      0.70      0.77    179694\n",
      "\n",
      "0.696506282903\n"
     ]
    }
   ],
   "source": [
    "pred_y_cv = classifier.predict(x_train)\n",
    "\n",
    "print(\"On train : \")\n",
    "print(\"confusion matrix\")\n",
    "print(confusion_matrix(y_train , pred_y_cv))\n",
    "print(\"\\n \\nreport\\n\")\n",
    "print(classification_report(y_train , pred_y_cv))\n",
    "print(accuracy_score(y_train , pred_y_cv))\n",
    "\n",
    "pred_y = classifier.predict(x_test)\n",
    "print(\"\\n On test : \")\n",
    "print(\"confusion matrix\")\n",
    "print(confusion_matrix(y_test , pred_y))\n",
    "print(\"\\n \\nreport\\n\")\n",
    "print(classification_report(y_test , pred_y))\n",
    "print(accuracy_score(y_test , pred_y))"
   ]
  },
  {
   "cell_type": "markdown",
   "metadata": {},
   "source": [
    "<h3>So finally we infer that we are getting better results with Random Forest after down sampling majority class and up sampling minority class , with better score of precision and recall and 97% accuracy .</h3>"
   ]
  },
  {
   "cell_type": "code",
   "execution_count": 93,
   "metadata": {},
   "outputs": [
    {
     "data": {
      "image/png": "[encoded data removed]",
      "text/plain": [
       "<matplotlib.figure.Figure at 0x238008abc50>"
      ]
     },
     "metadata": {},
     "output_type": "display_data"
    }
   ],
   "source": [
    "features = df_till_may2015.columns.values[:-1]\n",
    "importances = algo.feature_importances_\n",
    "indices = np.argsort(importances)\n",
    "\n",
    "plt.title('Feature Importances')\n",
    "plt.barh(range(len(indices)), importances[indices], color='b', align='center')\n",
    "plt.yticks(range(len(indices)), [features[i] for i in indices])\n",
    "plt.xlabel('Relative Importance')\n",
    "plt.show()"
   ]
  },
  {
   "cell_type": "markdown",
   "metadata": {},
   "source": [
    "<h4>Now predicting using random forest on data from June 2015.</h4>"
   ]
  },
  {
   "cell_type": "code",
   "execution_count": 77,
   "metadata": {
    "collapsed": true
   },
   "outputs": [],
   "source": [
    "x = df_test.iloc[ : , :-1].values\n",
    "\n",
    "scalar = StandardScaler()\n",
    "scalar.fit(x)\n",
    "x = scalar.transform(x)\n",
    "\n",
    "y_pred = algo.predict(x)"
   ]
  },
  {
   "cell_type": "code",
   "execution_count": 66,
   "metadata": {},
   "outputs": [],
   "source": [
    "data_split_type = []\n",
    "for date in df[\"issue_d\"].values:\n",
    "    if date in issue_dates[:101]:\n",
    "        data_split_type.append(\"train\")\n",
    "    else:\n",
    "        data_split_type.append(\"test\")\n",
    "df[\"type\"] =  data_split_type\n",
    "\n",
    "df_submition = pd.DataFrame(df[df[\"type\"] == \"test\"])"
   ]
  },
  {
   "cell_type": "code",
   "execution_count": 68,
   "metadata": {},
   "outputs": [],
   "source": [
    "df_submition[\"default_ind\"] = y_pred\n"
   ]
  },
  {
   "cell_type": "code",
   "execution_count": 70,
   "metadata": {},
   "outputs": [
    {
     "data": {
      "image/png": "[encoded data removed]",
      "text/plain": [
       "<matplotlib.figure.Figure at 0x2384236ccf8>"
      ]
     },
     "metadata": {},
     "output_type": "display_data"
    }
   ],
   "source": [
    "c = Counter(df_submition[\"default_ind\"])\n",
    "labels = []\n",
    "size = df_submition[\"default_ind\"].unique().size\n",
    "for i in np.arange(0 , size):\n",
    "    labels.append(c.most_common()[i][0])\n",
    "a4_dimens = (5.7 , 5.27)\n",
    "fig , ax = plt.subplots(figsize = a4_dimens)\n",
    "sns.set(style = \"dark\")\n",
    "sns.countplot(x = \"default_ind\" , data = df , order = labels , ax = ax )\n",
    "plt.xlabel(\"Loan Status\")\n",
    "plt.show()"
   ]
  },
  {
   "cell_type": "code",
   "execution_count": 71,
   "metadata": {},
   "outputs": [
    {
     "data": {
      "text/plain": [
       "0    253079\n",
       "1      3912\n",
       "Name: default_ind, dtype: int64"
      ]
     },
     "execution_count": 71,
     "metadata": {},
     "output_type": "execute_result"
    }
   ],
   "source": [
    "df_submition[\"default_ind\"].value_counts()"
   ]
  },
  {
   "cell_type": "code",
   "execution_count": 91,
   "metadata": {
    "collapsed": true
   },
   "outputs": [],
   "source": [
    "df_submition.to_csv(\"final_results.csv\" , header = True)"
   ]
  }
 ],
 "metadata": {
  "kernelspec": {
   "display_name": "Python 3",
   "language": "python",
   "name": "python3"
  },
  "language_info": {
   "codemirror_mode": {
    "name": "ipython",
    "version": 3
   },
   "file_extension": ".py",
   "mimetype": "text/x-python",
   "name": "python",
   "nbconvert_exporter": "python",
   "pygments_lexer": "ipython3",
   "version": "3.6.2"
  }
 },
 "nbformat": 4,
 "nbformat_minor": 2
}
